{
 "cells": [
  {
   "cell_type": "markdown",
   "id": "3d082b21-3a15-49a3-a333-f889d49102da",
   "metadata": {},
   "source": [
    "## Statistics  Practice Questions Assignment 3RD"
   ]
  },
  {
   "cell_type": "markdown",
   "id": "7c97ded1-c7b3-4ae8-bc2a-54b9ebcc3992",
   "metadata": {},
   "source": [
    "QUES 1 -:Generate a list of 100 integers containing values between 90 to 130 and store it in the variable `int_list`.\r\n",
    "After generating the list, find the following:\r\n",
    "\r\n",
    "  \r\n",
    "\r\n",
    "  (i) Write a Python function to calculate the mean of a given list of numbers.\r\n",
    "\r\n",
    "Create a function to find the median of a list of numbers.\r\n",
    "\r\n",
    "  \r\n",
    "\r\n",
    "  (ii) Develop a program to compute the mode of a list of integers.\r\n",
    "\r\n",
    "  \r\n",
    "\r\n",
    "  (iii) Implement a function to calculate the weighted mean of a list of values and their corresponding weights.\r\n",
    "\r\n",
    "  \r\n",
    "\r\n",
    "  (iv) Write a Python function to find the geometric mean of a list of positive numbers.\r\n",
    "\r\n",
    "  \r\n",
    "\r\n",
    "  (v) Create a program to calculate the harmonic mean of a list of values.\r\n",
    "\r\n",
    "  \r\n",
    "\r\n",
    "  (vi) Build a function to determine the midrange of a list of numbers (average of the minimum and maximum).\r\n",
    "\r\n",
    "  \r\n",
    "\r\n",
    "  (vii) Implement a Python program to find the trimmed mean of a list, excluding a certain percentage of\r\n",
    "outliers."
   ]
  },
  {
   "cell_type": "code",
   "execution_count": 1,
   "id": "558d5301-4efd-41f2-a115-6cfd9877da6e",
   "metadata": {},
   "outputs": [
    {
     "name": "stdout",
     "output_type": "stream",
     "text": [
      "[113, 114, 92, 118, 111, 100, 100, 93, 122, 126, 111, 129, 121, 104, 90, 111, 124, 121, 90, 101, 119, 129, 96, 96, 107, 119, 121, 126, 129, 116, 90, 109, 114, 110, 116, 128, 92, 126, 92, 112, 98, 107, 95, 110, 95, 106, 95, 107, 105, 114, 122, 117, 118, 107, 121, 110, 106, 129, 101, 115, 116, 93, 95, 91, 128, 112, 95, 122, 96, 129, 117, 97, 114, 113, 127, 90, 113, 120, 93, 118, 101, 121, 126, 92, 113, 124, 118, 104, 123, 106, 129, 126, 111, 110, 124, 123, 104, 119, 104, 123]\n"
     ]
    }
   ],
   "source": [
    "# ANS -1\n",
    "\n",
    "# Generate a list of 100 integers between 90 and 130:\n",
    "\n",
    "import random\n",
    "\n",
    "# Generate a list of 100 integers between 90 and 130\n",
    "int_list = [random.randint(90, 130) for _ in range(100)]\n",
    "print(int_list)"
   ]
  },
  {
   "cell_type": "markdown",
   "id": "31deff38-58aa-4f7c-bf03-f4ea8121cb80",
   "metadata": {},
   "source": [
    "(i) Mean and Median\n",
    "Function to calculate the mean:"
   ]
  },
  {
   "cell_type": "code",
   "execution_count": 2,
   "id": "4436bf96-95e4-4e63-82fc-8ef7d86ffa4e",
   "metadata": {},
   "outputs": [
    {
     "name": "stdout",
     "output_type": "stream",
     "text": [
      "Mean: 110.96\n"
     ]
    }
   ],
   "source": [
    "def calculate_mean(numbers):\n",
    "    return sum(numbers) / len(numbers)\n",
    "\n",
    "# Example usage:\n",
    "mean = calculate_mean(int_list)\n",
    "print(\"Mean:\", mean)\n"
   ]
  },
  {
   "cell_type": "markdown",
   "id": "f4136a02-6ede-4436-b79a-6fbb99b1161d",
   "metadata": {},
   "source": [
    "Function to calculate the median:"
   ]
  },
  {
   "cell_type": "code",
   "execution_count": 3,
   "id": "45c7dd4e-2462-480b-92aa-a8dfa36d5de4",
   "metadata": {},
   "outputs": [
    {
     "name": "stdout",
     "output_type": "stream",
     "text": [
      "Median: 112.5\n"
     ]
    }
   ],
   "source": [
    "def calculate_median(numbers):\n",
    "    sorted_numbers = sorted(numbers)\n",
    "    n = len(sorted_numbers)\n",
    "    mid = n // 2\n",
    "\n",
    "    if n % 2 == 0:\n",
    "        return (sorted_numbers[mid - 1] + sorted_numbers[mid]) / 2\n",
    "    else:\n",
    "        return sorted_numbers[mid]\n",
    "\n",
    "# Example usage:\n",
    "median = calculate_median(int_list)\n",
    "print(\"Median:\", median)\n"
   ]
  },
  {
   "cell_type": "code",
   "execution_count": 4,
   "id": "23ad0c48-1a78-4d01-9659-a86707d0fc3a",
   "metadata": {},
   "outputs": [
    {
     "name": "stdout",
     "output_type": "stream",
     "text": [
      "Mode: [129]\n"
     ]
    }
   ],
   "source": [
    "# Mode\n",
    "\n",
    "from collections import Counter\n",
    "\n",
    "def calculate_mode(numbers):\n",
    "    freq = Counter(numbers)\n",
    "    max_freq = max(freq.values())\n",
    "    modes = [num for num, count in freq.items() if count == max_freq]\n",
    "    return modes\n",
    "\n",
    "# Example usage:\n",
    "mode = calculate_mode(int_list)\n",
    "print(\"Mode:\", mode)\n"
   ]
  },
  {
   "cell_type": "code",
   "execution_count": 5,
   "id": "ee9a279b-1f8c-4b97-9c9b-23950491a3f7",
   "metadata": {},
   "outputs": [
    {
     "name": "stdout",
     "output_type": "stream",
     "text": [
      "Weighted Mean: 111.68901303538175\n"
     ]
    }
   ],
   "source": [
    "# (iii) Weighted Mean\n",
    "\n",
    "def calculate_weighted_mean(values, weights):\n",
    "    if len(values) != len(weights):\n",
    "        raise ValueError(\"The lengths of values and weights must be equal.\")\n",
    "    weighted_sum = sum(value * weight for value, weight in zip(values, weights))\n",
    "    total_weights = sum(weights)\n",
    "    return weighted_sum / total_weights\n",
    "\n",
    "# Example usage:\n",
    "weights = [random.randint(1, 10) for _ in range(100)]  # Random weights\n",
    "weighted_mean = calculate_weighted_mean(int_list, weights)\n",
    "print(\"Weighted Mean:\", weighted_mean)\n"
   ]
  },
  {
   "cell_type": "code",
   "execution_count": 6,
   "id": "806b4e0c-ca19-492d-8267-480a79ec357a",
   "metadata": {},
   "outputs": [
    {
     "name": "stdout",
     "output_type": "stream",
     "text": [
      "Geometric Mean: 110.30325806944225\n"
     ]
    }
   ],
   "source": [
    "# (iv) Geometric Mean\n",
    "\n",
    "import math\n",
    "\n",
    "def calculate_geometric_mean(numbers):\n",
    "    product = math.prod(numbers)\n",
    "    return product ** (1 / len(numbers))\n",
    "\n",
    "# Example usage:\n",
    "geometric_mean = calculate_geometric_mean([num for num in int_list if num > 0])  # Ensure all numbers are positive\n",
    "print(\"Geometric Mean:\", geometric_mean)\n"
   ]
  },
  {
   "cell_type": "code",
   "execution_count": 7,
   "id": "5837871a-fe64-45c4-8aec-83ecb6b63b2d",
   "metadata": {},
   "outputs": [
    {
     "name": "stdout",
     "output_type": "stream",
     "text": [
      "Harmonic Mean: 109.63252246432043\n"
     ]
    }
   ],
   "source": [
    "# (v) Harmonic Mean\n",
    "\n",
    "def calculate_harmonic_mean(numbers):\n",
    "    reciprocal_sum = sum(1 / num for num in numbers if num != 0)\n",
    "    return len(numbers) / reciprocal_sum\n",
    "\n",
    "# Example usage:\n",
    "harmonic_mean = calculate_harmonic_mean(int_list)\n",
    "print(\"Harmonic Mean:\", harmonic_mean)\n"
   ]
  },
  {
   "cell_type": "code",
   "execution_count": 8,
   "id": "536d48e3-0adf-4f3c-adf3-8086b3bf30ca",
   "metadata": {},
   "outputs": [
    {
     "name": "stdout",
     "output_type": "stream",
     "text": [
      "Midrange: 109.5\n"
     ]
    }
   ],
   "source": [
    "# (vi) Midrange\n",
    "\n",
    "def calculate_midrange(numbers):\n",
    "    return (max(numbers) + min(numbers)) / 2\n",
    "\n",
    "# Example usage:\n",
    "midrange = calculate_midrange(int_list)\n",
    "print(\"Midrange:\", midrange)\n"
   ]
  },
  {
   "cell_type": "code",
   "execution_count": 9,
   "id": "de56380f-caca-4b41-b56c-e4320aa7cef6",
   "metadata": {},
   "outputs": [
    {
     "name": "stdout",
     "output_type": "stream",
     "text": [
      "Trimmed Mean (10%): 111.2625\n"
     ]
    }
   ],
   "source": [
    "# (vii) Trimmed Mean\n",
    "\n",
    "def calculate_trimmed_mean(numbers, trim_percent):\n",
    "    if not (0 <= trim_percent < 50):\n",
    "        raise ValueError(\"Trim percent must be between 0 and 50.\")\n",
    "\n",
    "    sorted_numbers = sorted(numbers)\n",
    "    n = len(sorted_numbers)\n",
    "    trim_count = int(n * trim_percent / 100)\n",
    "\n",
    "    trimmed_numbers = sorted_numbers[trim_count: n - trim_count]\n",
    "    return calculate_mean(trimmed_numbers)\n",
    "\n",
    "# Example usage:\n",
    "trim_percent = 10  # Trim 10% from both ends\n",
    "trimmed_mean = calculate_trimmed_mean(int_list, trim_percent)\n",
    "print(\"Trimmed Mean (10%):\", trimmed_mean)\n"
   ]
  },
  {
   "cell_type": "markdown",
   "id": "a3091785-b905-40e7-bf72-f0336bc61973",
   "metadata": {},
   "source": [
    "QUES - 2. Generate a list of 500 integers containing values between 200 to 300 and store it in the variable `int_list2`.\n",
    "After generating the list, find the following:\n",
    "\n",
    "\n",
    "  (i) Compare the given list of visualization for the given data:\n",
    "\n",
    "    \n",
    "\n",
    "    1. Frequency & Gaussian distribution\n",
    "\n",
    "    2. Frequency smoothened KDE plot\n",
    "\n",
    "    3. Gaussian distribution & smoothened KDE plot\n",
    "\n",
    "\n",
    "  (ii) Write a Python function to calculate the range of a given list of numbers.\n",
    "\n",
    "\n",
    "  (iii) Create a program to find the variance and standard deviation of a list of numbers.\n",
    "\n",
    "\n",
    "  (iv) Implement a function to compute the interquartile range (IQR) of a list of values.\n",
    "\n",
    "\n",
    "  (v) Build a program to calculate the coefficient of variation for a dataset.\n",
    "\n",
    "  \n",
    "\n",
    "  (vi) Write a Python function to find the mean absolute deviation (MAD) of a list of numbers.\n",
    "\n",
    "\n",
    "  (vii) Create a program to calculate the quartile deviation of a list of values.\n",
    "\n",
    "  \n",
    "\n",
    "  (viii) Implement a function to find the range-based coefficient of dispersion for a dataset."
   ]
  },
  {
   "cell_type": "code",
   "execution_count": 10,
   "id": "c33d2476-6cd3-40af-aa27-a23fcb4ec03c",
   "metadata": {},
   "outputs": [
    {
     "data": {
      "image/png": "[encoded data removed]",
      "text/plain": [
       "<Figure size 640x480 with 1 Axes>"
      ]
     },
     "metadata": {},
     "output_type": "display_data"
    },
    {
     "data": {
      "image/png": "[encoded data removed]",
      "text/plain": [
       "<Figure size 640x480 with 1 Axes>"
      ]
     },
     "metadata": {},
     "output_type": "display_data"
    },
    {
     "data": {
      "image/png": "[encoded data removed]",
      "text/plain": [
       "<Figure size 640x480 with 1 Axes>"
      ]
     },
     "metadata": {},
     "output_type": "display_data"
    },
    {
     "name": "stdout",
     "output_type": "stream",
     "text": [
      "Range: 100\n",
      "Variance: 807.1116\n",
      "Standard Deviation: 28.409709607808384\n",
      "Interquartile Range (IQR): 49.5\n",
      "Coefficient of Variation: 11.39945012752122 %\n",
      "Mean Absolute Deviation (MAD): 24.469279999999998\n",
      "Quartile Deviation: 24.75\n",
      "Range-based Coefficient of Dispersion: 0.40125190594655324\n"
     ]
    }
   ],
   "source": [
    "# ANS -2 - \n",
    "\n",
    "import random\n",
    "import numpy as np\n",
    "import seaborn as sns\n",
    "import matplotlib.pyplot as plt\n",
    "from scipy.stats import norm\n",
    "\n",
    "# Generate the list\n",
    "int_list2 = [random.randint(200, 300) for _ in range(500)]\n",
    "\n",
    "# (i) Visualizations\n",
    "def plot_frequency_and_gaussian(data):\n",
    "    sns.histplot(data, kde=False, bins=15, color=\"blue\", label=\"Frequency\", stat=\"density\")\n",
    "    mean, std = np.mean(data), np.std(data)\n",
    "    x = np.linspace(min(data), max(data), 500)\n",
    "    y = norm.pdf(x, mean, std)\n",
    "    plt.plot(x, y, color=\"red\", label=\"Gaussian Distribution\")\n",
    "    plt.title(\"Frequency & Gaussian Distribution\")\n",
    "    plt.legend()\n",
    "    plt.show()\n",
    "\n",
    "def plot_frequency_and_kde(data):\n",
    "    sns.histplot(data, kde=True, bins=15, color=\"blue\", label=\"Frequency with KDE\")\n",
    "    plt.title(\"Frequency & KDE Plot\")\n",
    "    plt.legend()\n",
    "    plt.show()\n",
    "\n",
    "def plot_gaussian_and_kde(data):\n",
    "    mean, std = np.mean(data), np.std(data)\n",
    "    x = np.linspace(min(data), max(data), 500)\n",
    "    y = norm.pdf(x, mean, std)\n",
    "    sns.kdeplot(data, label=\"KDE Plot\", color=\"green\")\n",
    "    plt.plot(x, y, color=\"red\", label=\"Gaussian Distribution\")\n",
    "    plt.title(\"Gaussian Distribution & KDE Plot\")\n",
    "    plt.legend()\n",
    "    plt.show()\n",
    "\n",
    "# (ii) Range\n",
    "def calculate_range(numbers):\n",
    "    return max(numbers) - min(numbers)\n",
    "\n",
    "# (iii) Variance and Standard Deviation\n",
    "def calculate_variance_and_std(numbers):\n",
    "    variance = np.var(numbers)\n",
    "    std_dev = np.std(numbers)\n",
    "    return variance, std_dev\n",
    "\n",
    "# (iv) Interquartile Range (IQR)\n",
    "def calculate_iqr(numbers):\n",
    "    q1 = np.percentile(numbers, 25)\n",
    "    q3 = np.percentile(numbers, 75)\n",
    "    return q3 - q1\n",
    "\n",
    "# (v) Coefficient of Variation\n",
    "def calculate_coefficient_of_variation(numbers):\n",
    "    mean = np.mean(numbers)\n",
    "    std_dev = np.std(numbers)\n",
    "    return (std_dev / mean) * 100\n",
    "\n",
    "# (vi) Mean Absolute Deviation (MAD)\n",
    "def calculate_mad(numbers):\n",
    "    mean = np.mean(numbers)\n",
    "    mad = np.mean([abs(x - mean) for x in numbers])\n",
    "    return mad\n",
    "\n",
    "# (vii) Quartile Deviation\n",
    "def calculate_quartile_deviation(numbers):\n",
    "    q1 = np.percentile(numbers, 25)\n",
    "    q3 = np.percentile(numbers, 75)\n",
    "    return (q3 - q1) / 2\n",
    "\n",
    "# (viii) Range-based Coefficient of Dispersion\n",
    "def calculate_range_coefficient_of_dispersion(numbers):\n",
    "    range_value = calculate_range(numbers)\n",
    "    mean = np.mean(numbers)\n",
    "    return range_value / mean\n",
    "\n",
    "# Example usage\n",
    "plot_frequency_and_gaussian(int_list2)\n",
    "plot_frequency_and_kde(int_list2)\n",
    "plot_gaussian_and_kde(int_list2)\n",
    "\n",
    "print(\"Range:\", calculate_range(int_list2))\n",
    "variance, std_dev = calculate_variance_and_std(int_list2)\n",
    "print(\"Variance:\", variance)\n",
    "print(\"Standard Deviation:\", std_dev)\n",
    "print(\"Interquartile Range (IQR):\", calculate_iqr(int_list2))\n",
    "print(\"Coefficient of Variation:\", calculate_coefficient_of_variation(int_list2), \"%\")\n",
    "print(\"Mean Absolute Deviation (MAD):\", calculate_mad(int_list2))\n",
    "print(\"Quartile Deviation:\", calculate_quartile_deviation(int_list2))\n",
    "print(\"Range-based Coefficient of Dispersion:\", calculate_range_coefficient_of_dispersion(int_list2))\n"
   ]
  },
  {
   "cell_type": "markdown",
   "id": "fb0c2f14-eeb2-4543-81fb-0cfd14465adf",
   "metadata": {},
   "source": [
    "QUES 3 -   Write a Python class representing a discrete random variable with methods to calculate its expected\n",
    "value and variance"
   ]
  },
  {
   "cell_type": "code",
   "execution_count": 11,
   "id": "22e1e171-b6e8-4b8d-b575-27c54058959c",
   "metadata": {},
   "outputs": [
    {
     "name": "stdout",
     "output_type": "stream",
     "text": [
      "Expected Value (Mean): 3.5\n",
      "Variance: 2.9166666666666665\n",
      "Expected Value (Mean): 0.7\n",
      "Variance: 0.20999999999999996\n"
     ]
    }
   ],
   "source": [
    "# ANS - 3 :\n",
    "\n",
    "class DiscreteRandomVariable:\n",
    "    def __init__(self, outcomes, probabilities):\n",
    "        \"\"\"\n",
    "        Initialize the discrete random variable.\n",
    "\n",
    "        :param outcomes: A list of possible outcomes (x values).\n",
    "        :param probabilities: A list of probabilities associated with the outcomes.\n",
    "                              The length of probabilities must match the length of outcomes,\n",
    "                              and the sum of probabilities must equal 1.\n",
    "        \"\"\"\n",
    "        if len(outcomes) != len(probabilities):\n",
    "            raise ValueError(\"The number of outcomes must match the number of probabilities.\")\n",
    "        if abs(sum(probabilities) - 1) > 1e-9:\n",
    "            raise ValueError(\"The sum of probabilities must equal 1.\")\n",
    "\n",
    "        self.outcomes = outcomes\n",
    "        self.probabilities = probabilities\n",
    "\n",
    "    def expected_value(self):\n",
    "        \"\"\"\n",
    "        Calculate the expected value (mean) of the random variable.\n",
    "\n",
    "        :return: The expected value.\n",
    "        \"\"\"\n",
    "        return sum(x * p for x, p in zip(self.outcomes, self.probabilities))\n",
    "\n",
    "    def variance(self):\n",
    "        \"\"\"\n",
    "        Calculate the variance of the random variable.\n",
    "\n",
    "        :return: The variance.\n",
    "        \"\"\"\n",
    "        expected_val = self.expected_value()\n",
    "        return sum(p * (x - expected_val) ** 2 for x, p in zip(self.outcomes, self.probabilities))\n",
    "\n",
    "# Example usage\n",
    "if __name__ == \"__main__\":\n",
    "    # Example: Tossing a fair six-sided die\n",
    "    outcomes = [1, 2, 3, 4, 5, 6]\n",
    "    probabilities = [1/6] * 6  # Each side has an equal probability\n",
    "\n",
    "    dice = DiscreteRandomVariable(outcomes, probabilities)\n",
    "    print(\"Expected Value (Mean):\", dice.expected_value())\n",
    "    print(\"Variance:\", dice.variance())\n",
    "\n",
    "    # Another example: Biased coin toss\n",
    "    outcomes = [0, 1]  # 0 = Heads, 1 = Tails\n",
    "    probabilities = [0.3, 0.7]  # Probability of heads = 0.3, tails = 0.7\n",
    "    coin = DiscreteRandomVariable(outcomes, probabilities)\n",
    "    print(\"Expected Value (Mean):\", coin.expected_value())\n",
    "    print(\"Variance:\", coin.variance())\n"
   ]
  },
  {
   "cell_type": "markdown",
   "id": "65fcd8aa-6bfb-464d-92a4-8f495e035d89",
   "metadata": {},
   "source": [
    "QUES - 4 Implement a program to simulate the rolling of a fair six-sided die and calculate the expected value and\n",
    "variance of the outcomes."
   ]
  },
  {
   "cell_type": "code",
   "execution_count": 12,
   "id": "e93fe4a4-79fb-4721-82e2-d7ca882f4c6a",
   "metadata": {},
   "outputs": [
    {
     "name": "stdout",
     "output_type": "stream",
     "text": [
      "Simulation Results:\n",
      "  Expected Value (Mean): 3.406\n",
      "  Variance: 2.757164\n",
      "\n",
      "Theoretical Results:\n",
      "  Expected Value (Mean): 3.5\n",
      "  Variance: 2.9166666666666665\n"
     ]
    }
   ],
   "source": [
    "# ANS - 4 :\n",
    "\n",
    "class DiceSimulation:\n",
    "    def __init__(self, rolls):\n",
    "        \"\"\"\n",
    "        Initialize the DiceSimulation class.\n",
    "\n",
    "        :param rolls: Number of times the die will be rolled.\n",
    "        \"\"\"\n",
    "        self.rolls = rolls\n",
    "        self.outcomes = []\n",
    "\n",
    "    def roll_die(self):\n",
    "        \"\"\"\n",
    "        Simulate rolling a fair six-sided die.\n",
    "        \"\"\"\n",
    "        self.outcomes = [random.randint(1, 6) for _ in range(self.rolls)]\n",
    "\n",
    "    def expected_value(self):\n",
    "        \"\"\"\n",
    "        Calculate the expected value (mean) from the simulation.\n",
    "\n",
    "        :return: The expected value (mean) of the rolls.\n",
    "        \"\"\"\n",
    "        return np.mean(self.outcomes)\n",
    "\n",
    "    def variance(self):\n",
    "        \"\"\"\n",
    "        Calculate the variance from the simulation.\n",
    "\n",
    "        :return: The variance of the rolls.\n",
    "        \"\"\"\n",
    "        return np.var(self.outcomes)\n",
    "\n",
    "# Theoretical calculations for a fair six-sided die\n",
    "def theoretical_expected_value():\n",
    "    \"\"\"\n",
    "    Calculate the theoretical expected value of a fair six-sided die.\n",
    "\n",
    "    :return: The expected value (mean).\n",
    "    \"\"\"\n",
    "    return sum([x * (1/6) for x in range(1, 7)])\n",
    "\n",
    "def theoretical_variance():\n",
    "    \"\"\"\n",
    "    Calculate the theoretical variance of a fair six-sided die.\n",
    "\n",
    "    :return: The variance.\n",
    "    \"\"\"\n",
    "    expected_val = theoretical_expected_value()\n",
    "    return sum([(x - expected_val) ** 2 * (1/6) for x in range(1, 7)])\n",
    "\n",
    "# Simulating the die rolls\n",
    "if __name__ == \"__main__\":\n",
    "    num_rolls = 1000  # Number of rolls\n",
    "    dice = DiceSimulation(num_rolls)\n",
    "    dice.roll_die()\n",
    "\n",
    "    # Simulation results\n",
    "    simulated_expected_value = dice.expected_value()\n",
    "    simulated_variance = dice.variance()\n",
    "\n",
    "    # Theoretical results\n",
    "    theoretical_ev = theoretical_expected_value()\n",
    "    theoretical_var = theoretical_variance()\n",
    "\n",
    "    # Display the results\n",
    "    print(\"Simulation Results:\")\n",
    "    print(f\"  Expected Value (Mean): {simulated_expected_value}\")\n",
    "    print(f\"  Variance: {simulated_variance}\")\n",
    "\n",
    "    print(\"\\nTheoretical Results:\")\n",
    "    print(f\"  Expected Value (Mean): {theoretical_ev}\")\n",
    "    print(f\"  Variance: {theoretical_var}\")\n"
   ]
  },
  {
   "cell_type": "markdown",
   "id": "befbae15-271a-47a7-a388-1bc88ee66c21",
   "metadata": {},
   "source": [
    "QUES - 5 Create a Python function to generate random samples from a given probability distribution (e.g.,\n",
    "binomial, Poisson) and calculate their mean and variance."
   ]
  },
  {
   "cell_type": "code",
   "execution_count": 13,
   "id": "7ac15ff2-a46c-4bf8-9bdb-9154bf056301",
   "metadata": {},
   "outputs": [
    {
     "name": "stdout",
     "output_type": "stream",
     "text": [
      "Binomial Distribution:\n",
      "  Mean: 4.913\n",
      "  Variance: 2.2894309999999995\n",
      "\n",
      "Poisson Distribution:\n",
      "  Mean: 4.157\n",
      "  Variance: 4.064350999999999\n"
     ]
    }
   ],
   "source": [
    "# ANS - 5 :\n",
    "\n",
    "\n",
    "import numpy as np\n",
    "\n",
    "def generate_samples(distribution, params, sample_size):\n",
    "    \"\"\"\n",
    "    Generate random samples from a specified probability distribution \n",
    "    and calculate their mean and variance.\n",
    "    \n",
    "    :param distribution: The name of the distribution ('binomial' or 'poisson').\n",
    "    :param params: Parameters for the distribution:\n",
    "        - For 'binomial': {'n': number of trials, 'p': probability of success}\n",
    "        - For 'poisson': {'lambda': rate parameter}\n",
    "    :param sample_size: The number of samples to generate.\n",
    "    :return: A dictionary containing the samples, mean, and variance.\n",
    "    \"\"\"\n",
    "    if distribution == 'binomial':\n",
    "        n = params.get('n')\n",
    "        p = params.get('p')\n",
    "        if n is None or p is None:\n",
    "            raise ValueError(\"For 'binomial', provide 'n' (trials) and 'p' (success probability).\")\n",
    "        samples = np.random.binomial(n, p, sample_size)\n",
    "    \n",
    "    elif distribution == 'poisson':\n",
    "        lam = params.get('lambda')\n",
    "        if lam is None:\n",
    "            raise ValueError(\"For 'poisson', provide 'lambda' (rate parameter).\")\n",
    "        samples = np.random.poisson(lam, sample_size)\n",
    "    \n",
    "    else:\n",
    "        raise ValueError(\"Unsupported distribution. Use 'binomial' or 'poisson'.\")\n",
    "    \n",
    "    # Calculate mean and variance\n",
    "    sample_mean = np.mean(samples)\n",
    "    sample_variance = np.var(samples)\n",
    "    \n",
    "    return {\n",
    "        \"samples\": samples,\n",
    "        \"mean\": sample_mean,\n",
    "        \"variance\": sample_variance\n",
    "    }\n",
    "\n",
    "# Example usage\n",
    "if __name__ == \"__main__\":\n",
    "    # Generate samples from a Binomial distribution\n",
    "    binomial_params = {'n': 10, 'p': 0.5}  # 10 trials, success probability 0.5\n",
    "    binomial_results = generate_samples('binomial', binomial_params, 1000)\n",
    "    print(\"Binomial Distribution:\")\n",
    "    print(\"  Mean:\", binomial_results[\"mean\"])\n",
    "    print(\"  Variance:\", binomial_results[\"variance\"])\n",
    "    \n",
    "    # Generate samples from a Poisson distribution\n",
    "    poisson_params = {'lambda': 4}  # Rate parameter λ = 4\n",
    "    poisson_results = generate_samples('poisson', poisson_params, 1000)\n",
    "    print(\"\\nPoisson Distribution:\")\n",
    "    print(\"  Mean:\", poisson_results[\"mean\"])\n",
    "    print(\"  Variance:\", poisson_results[\"variance\"])\n"
   ]
  },
  {
   "cell_type": "markdown",
   "id": "c7b038ee-ab7e-4226-ab3e-30913e9e03b5",
   "metadata": {},
   "source": [
    "QUES - 6 - Write a Python script to generate random numbers from a Gaussian (normal) distribution and compute\n",
    "the mean, variance, and standard deviation of the samples."
   ]
  },
  {
   "cell_type": "code",
   "execution_count": 14,
   "id": "59a62f43-ff9a-4db6-9c4b-c0f7f6367d89",
   "metadata": {},
   "outputs": [
    {
     "name": "stdout",
     "output_type": "stream",
     "text": [
      "Generated Statistics for Gaussian Distribution:\n",
      "Sample Mean: 0.02\n",
      "Sample Variance: 1.00\n",
      "Sample Standard Deviation: 1.00\n"
     ]
    },
    {
     "data": {
      "image/png": "[encoded data removed]",
      "text/plain": [
       "<Figure size 640x480 with 1 Axes>"
      ]
     },
     "metadata": {},
     "output_type": "display_data"
    }
   ],
   "source": [
    "# ANS - : 6\n",
    "\n",
    "import numpy as np\n",
    "\n",
    "def gaussian_statistics(mean, std_dev, sample_size):\n",
    "    \"\"\"\n",
    "    Generate random samples from a Gaussian (normal) distribution and compute statistics.\n",
    "    \n",
    "    :param mean: The mean (μ) of the normal distribution.\n",
    "    :param std_dev: The standard deviation (σ) of the normal distribution.\n",
    "    :param sample_size: The number of random samples to generate.\n",
    "    :return: A dictionary containing the samples, mean, variance, and standard deviation.\n",
    "    \"\"\"\n",
    "    # Generate random samples\n",
    "    samples = np.random.normal(mean, std_dev, sample_size)\n",
    "    \n",
    "    # Calculate statistics\n",
    "    sample_mean = np.mean(samples)\n",
    "    sample_variance = np.var(samples)\n",
    "    sample_std_dev = np.std(samples)\n",
    "    \n",
    "    return {\n",
    "        \"samples\": samples,\n",
    "        \"mean\": sample_mean,\n",
    "        \"variance\": sample_variance,\n",
    "        \"std_dev\": sample_std_dev\n",
    "    }\n",
    "\n",
    "# Example usage\n",
    "if __name__ == \"__main__\":\n",
    "    # Parameters for the normal distribution\n",
    "    mean = 0  # Mean (μ)\n",
    "    std_dev = 1  # Standard deviation (σ)\n",
    "    sample_size = 1000  # Number of samples\n",
    "    \n",
    "    # Generate samples and calculate statistics\n",
    "    results = gaussian_statistics(mean, std_dev, sample_size)\n",
    "    \n",
    "    # Display results\n",
    "    print(\"Generated Statistics for Gaussian Distribution:\")\n",
    "    print(f\"Sample Mean: {results['mean']:.2f}\")\n",
    "    print(f\"Sample Variance: {results['variance']:.2f}\")\n",
    "    print(f\"Sample Standard Deviation: {results['std_dev']:.2f}\")\n",
    "    \n",
    "    # Display histogram of the samples\n",
    "    import matplotlib.pyplot as plt\n",
    "    plt.hist(results[\"samples\"], bins=30, color=\"skyblue\", edgecolor=\"black\", density=True)\n",
    "    plt.title(\"Histogram of Gaussian Distribution Samples\")\n",
    "    plt.xlabel(\"Value\")\n",
    "    plt.ylabel(\"Density\")\n",
    "    plt.show()\n"
   ]
  },
  {
   "cell_type": "markdown",
   "id": "59ab2c66-9a43-4170-a2e0-6290b9f8623d",
   "metadata": {},
   "source": [
    "QUES - 7 : Use seaborn library to load tips dataset. Find the following from the dataset for the columns total_bill\r\n",
    "and tip`:\r\n",
    "\r\n",
    "  \r\n",
    "\r\n",
    "  (i) Write a Python function that calculates their skewness.\r\n",
    "\r\n",
    "\r\n",
    "  (ii) Create a program that determines whether the columns exhibit positive skewness, negative skewness, or is\r\n",
    "approximately symmetric.\r\n",
    "\r\n",
    "\r\n",
    "  (iii) Write a function that calculates the covariance between two columns.\r\n",
    "\r\n",
    "\r\n",
    "  (iv) Implement a Python program that calculates the Pearson correlation coefficient between two columns.\r\n",
    "\r\n",
    "\r\n",
    "  (v) Write a script to visualize the correlation between two specific columns in a Pandas DataFrame using\r\n",
    "scatter plots."
   ]
  },
  {
   "cell_type": "code",
   "execution_count": 15,
   "id": "e963cdcb-427c-48f5-aacc-e7340979d75c",
   "metadata": {},
   "outputs": [
    {
     "name": "stdout",
     "output_type": "stream",
     "text": [
      "Skewness of 'total_bill': 1.13\n",
      "Skewness of 'tip': 1.46\n",
      "Total Bill Skewness Type: Positive Skewness\n",
      "Tip Skewness Type: Positive Skewness\n",
      "Covariance between 'total_bill' and 'tip': 8.32\n",
      "Pearson correlation coefficient between 'total_bill' and 'tip': 0.68\n"
     ]
    },
    {
     "data": {
      "image/png": "[encoded data removed]",
      "text/plain": [
       "<Figure size 800x600 with 1 Axes>"
      ]
     },
     "metadata": {},
     "output_type": "display_data"
    }
   ],
   "source": [
    "# ANS - 7 :\n",
    "\n",
    "\n",
    "\n",
    "import seaborn as sns\n",
    "import numpy as np\n",
    "import pandas as pd\n",
    "import matplotlib.pyplot as plt\n",
    "from scipy.stats import skew, pearsonr\n",
    "\n",
    "# Load dataset\n",
    "tips = sns.load_dataset('tips')\n",
    "\n",
    "\n",
    "# (i) Skewness function\n",
    "def calculate_skewness(data, column):\n",
    "    return skew(data[column])\n",
    "\n",
    "total_bill_skewness = calculate_skewness(tips, 'total_bill')\n",
    "tip_skewness = calculate_skewness(tips, 'tip')\n",
    "\n",
    "# (ii) Skewness type function\n",
    "def determine_skewness_type(skew_value):\n",
    "    if skew_value > 0:\n",
    "        return \"Positive Skewness\"\n",
    "    elif skew_value < 0:\n",
    "        return \"Negative Skewness\"\n",
    "    else:\n",
    "        return \"Symmetric\"\n",
    "\n",
    "total_bill_skew_type = determine_skewness_type(total_bill_skewness)\n",
    "tip_skew_type = determine_skewness_type(tip_skewness)\n",
    "\n",
    "# (iii) Covariance function\n",
    "def calculate_covariance(data, column1, column2):\n",
    "    return np.cov(data[column1], data[column2])[0, 1]\n",
    "\n",
    "covariance = calculate_covariance(tips, 'total_bill', 'tip')\n",
    "\n",
    "# (iv) Pearson correlation coefficient function\n",
    "def calculate_pearson_correlation(data, column1, column2):\n",
    "    return pearsonr(data[column1], data[column2])[0]\n",
    "\n",
    "pearson_corr = calculate_pearson_correlation(tips, 'total_bill', 'tip')\n",
    "\n",
    "# (v) Scatter plot function\n",
    "def visualize_correlation(data, column1, column2):\n",
    "    plt.figure(figsize=(8, 6))\n",
    "    sns.scatterplot(x=column1, y=column2, data=data)\n",
    "    plt.title(f\"Scatter Plot: {column1} vs {column2}\")\n",
    "    plt.xlabel(column1)\n",
    "    plt.ylabel(column2)\n",
    "    plt.show()\n",
    "\n",
    "# Output\n",
    "print(f\"Skewness of 'total_bill': {total_bill_skewness:.2f}\")\n",
    "print(f\"Skewness of 'tip': {tip_skewness:.2f}\")\n",
    "print(f\"Total Bill Skewness Type: {total_bill_skew_type}\")\n",
    "print(f\"Tip Skewness Type: {tip_skew_type}\")\n",
    "print(f\"Covariance between 'total_bill' and 'tip': {covariance:.2f}\")\n",
    "print(f\"Pearson correlation coefficient between 'total_bill' and 'tip': {pearson_corr:.2f}\")\n",
    "\n",
    "# Visualizing correlation\n",
    "visualize_correlation(tips, 'total_bill', 'tip')\n"
   ]
  },
  {
   "cell_type": "code",
   "execution_count": 16,
   "id": "3066fc67-6f84-4ccc-9ec6-d6d2f406481e",
   "metadata": {},
   "outputs": [
    {
     "data": {
      "text/html": [
       "<div>\n",
       "<style scoped>\n",
       "    .dataframe tbody tr th:only-of-type {\n",
       "        vertical-align: middle;\n",
       "    }\n",
       "\n",
       "    .dataframe tbody tr th {\n",
       "        vertical-align: top;\n",
       "    }\n",
       "\n",
       "    .dataframe thead th {\n",
       "        text-align: right;\n",
       "    }\n",
       "</style>\n",
       "<table border=\"1\" class=\"dataframe\">\n",
       "  <thead>\n",
       "    <tr style=\"text-align: right;\">\n",
       "      <th></th>\n",
       "      <th>total_bill</th>\n",
       "      <th>tip</th>\n",
       "      <th>sex</th>\n",
       "      <th>smoker</th>\n",
       "      <th>day</th>\n",
       "      <th>time</th>\n",
       "      <th>size</th>\n",
       "    </tr>\n",
       "  </thead>\n",
       "  <tbody>\n",
       "    <tr>\n",
       "      <th>0</th>\n",
       "      <td>16.99</td>\n",
       "      <td>1.01</td>\n",
       "      <td>Female</td>\n",
       "      <td>No</td>\n",
       "      <td>Sun</td>\n",
       "      <td>Dinner</td>\n",
       "      <td>2</td>\n",
       "    </tr>\n",
       "    <tr>\n",
       "      <th>1</th>\n",
       "      <td>10.34</td>\n",
       "      <td>1.66</td>\n",
       "      <td>Male</td>\n",
       "      <td>No</td>\n",
       "      <td>Sun</td>\n",
       "      <td>Dinner</td>\n",
       "      <td>3</td>\n",
       "    </tr>\n",
       "    <tr>\n",
       "      <th>2</th>\n",
       "      <td>21.01</td>\n",
       "      <td>3.50</td>\n",
       "      <td>Male</td>\n",
       "      <td>No</td>\n",
       "      <td>Sun</td>\n",
       "      <td>Dinner</td>\n",
       "      <td>3</td>\n",
       "    </tr>\n",
       "    <tr>\n",
       "      <th>3</th>\n",
       "      <td>23.68</td>\n",
       "      <td>3.31</td>\n",
       "      <td>Male</td>\n",
       "      <td>No</td>\n",
       "      <td>Sun</td>\n",
       "      <td>Dinner</td>\n",
       "      <td>2</td>\n",
       "    </tr>\n",
       "    <tr>\n",
       "      <th>4</th>\n",
       "      <td>24.59</td>\n",
       "      <td>3.61</td>\n",
       "      <td>Female</td>\n",
       "      <td>No</td>\n",
       "      <td>Sun</td>\n",
       "      <td>Dinner</td>\n",
       "      <td>4</td>\n",
       "    </tr>\n",
       "  </tbody>\n",
       "</table>\n",
       "</div>"
      ],
      "text/plain": [
       "   total_bill   tip     sex smoker  day    time  size\n",
       "0       16.99  1.01  Female     No  Sun  Dinner     2\n",
       "1       10.34  1.66    Male     No  Sun  Dinner     3\n",
       "2       21.01  3.50    Male     No  Sun  Dinner     3\n",
       "3       23.68  3.31    Male     No  Sun  Dinner     2\n",
       "4       24.59  3.61  Female     No  Sun  Dinner     4"
      ]
     },
     "execution_count": 16,
     "metadata": {},
     "output_type": "execute_result"
    }
   ],
   "source": [
    "tips.head()"
   ]
  },
  {
   "cell_type": "markdown",
   "id": "b92125ac-95a6-4285-baa9-03b8c277cdd3",
   "metadata": {},
   "source": [
    "QUES - 8 -Write a Python function to calculate the probability density function (PDF) of a continuous random\n",
    "variable for a given normal distribution."
   ]
  },
  {
   "cell_type": "code",
   "execution_count": 17,
   "id": "5c3f491c-0502-4bbf-8fdb-4562312d59b1",
   "metadata": {},
   "outputs": [
    {
     "name": "stdout",
     "output_type": "stream",
     "text": [
      "The PDF value at x = 1 for N(0, 1^2) is: 0.24197\n"
     ]
    }
   ],
   "source": [
    "# ANS - 8 -:\n",
    "\n",
    "import math\n",
    "\n",
    "def normal_pdf(x, mean, std_dev):\n",
    "    \"\"\"\n",
    "    Calculate the Probability Density Function (PDF) of a normal distribution.\n",
    "    \n",
    "    :param x: The value for which the PDF is calculated.\n",
    "    :param mean: The mean (μ) of the normal distribution.\n",
    "    :param std_dev: The standard deviation (σ) of the normal distribution.\n",
    "    :return: PDF value at x.\n",
    "    \"\"\"\n",
    "    # Using the formula for the normal distribution PDF\n",
    "    coefficient = 1 / (std_dev * math.sqrt(2 * math.pi))\n",
    "    exponent = math.exp(-0.5 * ((x - mean) / std_dev) ** 2)\n",
    "    return coefficient * exponent\n",
    "\n",
    "# Example Usage\n",
    "mean = 0  # Mean of the distribution\n",
    "std_dev = 1  # Standard deviation of the distribution\n",
    "\n",
    "x = 1  # Point at which to calculate the PDF\n",
    "pdf_value = normal_pdf(x, mean, std_dev)\n",
    "\n",
    "print(f\"The PDF value at x = {x} for N({mean}, {std_dev}^2) is: {pdf_value:.5f}\")\n"
   ]
  },
  {
   "cell_type": "markdown",
   "id": "96247dfb-d25b-49b1-82f0-78f363c44c31",
   "metadata": {},
   "source": [
    "QUES - 9- : Create a program to calculate the cumulative distribution function (CDF) of exponential distribution.\n"
   ]
  },
  {
   "cell_type": "code",
   "execution_count": 18,
   "id": "89db18fd-c207-4607-92ca-825d28a6187e",
   "metadata": {},
   "outputs": [
    {
     "name": "stdout",
     "output_type": "stream",
     "text": [
      "The CDF value at x = 2 for an exponential distribution with λ = 0.5 is: 0.63212\n"
     ]
    }
   ],
   "source": [
    "# ANS - 9 :\n",
    "import math\n",
    "\n",
    "def exponential_cdf(x, rate):\n",
    "    \"\"\"\n",
    "    Calculate the Cumulative Distribution Function (CDF) of an exponential distribution.\n",
    "    \n",
    "    :param x: The value for which the CDF is calculated.\n",
    "    :param rate: The rate parameter (λ) of the exponential distribution.\n",
    "    :return: CDF value at x.\n",
    "    \"\"\"\n",
    "    if x < 0:\n",
    "        return 0.0  # CDF is 0 for x < 0 in an exponential distribution\n",
    "    return 1 - math.exp(-rate * x)\n",
    "\n",
    "# Example Usage\n",
    "rate = 0.5  # Rate parameter λ of the exponential distribution\n",
    "x = 2  # Point at which to calculate the CDF\n",
    "\n",
    "cdf_value = exponential_cdf(x, rate)\n",
    "print(f\"The CDF value at x = {x} for an exponential distribution with λ = {rate} is: {cdf_value:.5f}\")\n"
   ]
  },
  {
   "cell_type": "markdown",
   "id": "28533041-d01c-4645-ada1-46cc734ffac3",
   "metadata": {},
   "source": [
    "QUES - 10 - : Write a Python function to calculate the probability mass function (PMF) of Poisson distribution.\n"
   ]
  },
  {
   "cell_type": "markdown",
   "id": "572c0e5b-8206-47d0-bd45-c2a17182344b",
   "metadata": {},
   "source": [
    " ANS - 10 -:\n"
   ]
  },
  {
   "cell_type": "code",
   "execution_count": 19,
   "id": "ea609ab6-0e64-4d3a-9365-bb52651d3e4c",
   "metadata": {},
   "outputs": [
    {
     "name": "stdout",
     "output_type": "stream",
     "text": [
      "The PMF value at k = 3 for a Poisson distribution with λ = 4 is: 0.19537\n"
     ]
    }
   ],
   "source": [
    "import math\n",
    "\n",
    "def poisson_pmf(k, lam):\n",
    "    \"\"\"\n",
    "    Calculate the Probability Mass Function (PMF) of a Poisson distribution.\n",
    "    \n",
    "    :param k: The number of occurrences (non-negative integer).\n",
    "    :param lam: The average rate of occurrences (λ).\n",
    "    :return: PMF value at k.\n",
    "    \"\"\"\n",
    "    if k < 0 or not isinstance(k, int):\n",
    "        raise ValueError(\"k must be a non-negative integer.\")\n",
    "    return (lam ** k * math.exp(-lam)) / math.factorial(k)\n",
    "\n",
    "# Example Usage\n",
    "lam = 4  # Average rate of occurrences (λ)\n",
    "k = 3    # Number of occurrences\n",
    "\n",
    "pmf_value = poisson_pmf(k, lam)\n",
    "print(f\"The PMF value at k = {k} for a Poisson distribution with λ = {lam} is: {pmf_value:.5f}\")\n"
   ]
  },
  {
   "cell_type": "markdown",
   "id": "a38568e8-393e-4c79-84f4-047131dc4527",
   "metadata": {},
   "source": [
    "# QUES - 11 - :M A company wants to test if a new website layout leads to a higher conversion rate (percentage of visitors\n",
    "who make a purchase). They collect data from the old and new layouts to compare.\n",
    "\n",
    "\n",
    "To generate the data use the following command:\n",
    "\n",
    "```python\n",
    "\n",
    "import numpy as np\n",
    "\n",
    "# 50 purchases out of 1000 visitors\n",
    "\n",
    "old_layout = np.array([1] * 50 + [0] * 950)\n",
    "\n",
    "# 70 purchases out of 1000 visitors  \n",
    "\n",
    "new_layout = np.array([1] * 70 + [0] * 930)\n",
    "\n",
    "  ```\n",
    "\n",
    "Apply z-test to find which layout is successful"
   ]
  },
  {
   "cell_type": "markdown",
   "id": "ba034571-0c4b-489f-b61d-224070f30d3f",
   "metadata": {},
   "source": [
    " ANS - 11 -:\n",
    "\n",
    "To compare the success rates of the old and new layouts, we use a **Z-Test for Two Proportions**:\n",
    "1. **Null Hypothesis (\\(H_0\\))**: The conversion rates for the old and new layouts are equal.\n",
    "2. **Alternative Hypothesis (\\(H_a\\))**: The conversion rates for the new layout are different (or higher).\n",
    "\n",
    "The Z-Test compares the difference in proportions while accounting for sample sizes. If the **z-score** exceeds the critical value (for a 95% confidence level, critical \\(z \\approx 1.96\\)), we reject \\(H_0\\) and conclude that the new layout is significantly better.\n",
    "\n"
   ]
  },
  {
   "cell_type": "code",
   "execution_count": 20,
   "id": "357bd356-9fe3-48b7-8cc7-966cc44575e9",
   "metadata": {},
   "outputs": [
    {
     "name": "stdout",
     "output_type": "stream",
     "text": [
      "Z-Statistic: -1.88\n",
      "P-Value: 0.0597\n",
      "Fail to reject the null hypothesis: No significant difference in conversion rates.\n"
     ]
    }
   ],
   "source": [
    "\n",
    "import numpy as np\n",
    "from statsmodels.stats.proportion import proportions_ztest\n",
    "\n",
    "# Data for old and new layouts\n",
    "old_layout = np.array([1] * 50 + [0] * 950)  # 50 purchases out of 1000 visitors\n",
    "new_layout = np.array([1] * 70 + [0] * 930)  # 70 purchases out of 1000 visitors\n",
    "\n",
    "# Successes (purchases) and total samples\n",
    "successes = [old_layout.sum(), new_layout.sum()]  # [50, 70]\n",
    "samples = [len(old_layout), len(new_layout)]     # [1000, 1000]\n",
    "\n",
    "# Perform the z-test\n",
    "z_stat, p_value = proportions_ztest(successes, samples)\n",
    "\n",
    "# Results\n",
    "print(f\"Z-Statistic: {z_stat:.2f}\")\n",
    "print(f\"P-Value: {p_value:.4f}\")\n",
    "\n",
    "# Interpretation\n",
    "if p_value < 0.05:  # 95% confidence level\n",
    "    print(\"Reject the null hypothesis: The new layout has a significantly different conversion rate.\")\n",
    "else:\n",
    "    print(\"Fail to reject the null hypothesis: No significant difference in conversion rates.\")\n"
   ]
  },
  {
   "cell_type": "markdown",
   "id": "43b0aef1-8951-4161-b17d-ec049dfcba1b",
   "metadata": {},
   "source": [
    "QUES - 12 - :A tutoring service claims that its program improves students' exam scores. A sample of students who\n",
    "participated in the program was taken, and their scores before and after the program were recorded.\n",
    "\n",
    "\n",
    "Use the below code to generate samples of respective arrays of marks:\n",
    "\n",
    "```python\n",
    "\n",
    "before_program = np.array([75, 80, 85, 70, 90, 78, 92, 88, 82, 87])\n",
    "\n",
    "after_program = np.array([80, 85, 90, 80, 92, 80, 95, 90, 85, 88])\n",
    "\n",
    "```\n",
    "\n",
    "Use z-test to find if the claims made by tutor are true or false."
   ]
  },
  {
   "cell_type": "markdown",
   "id": "1dd3196f-8bf4-403d-ac84-fda010ab5cb2",
   "metadata": {},
   "source": [
    " ANS - 12 -:\n",
    "\n",
    "The z-test for paired samples checks if there is a significant difference in the mean scores before and after the program. \n",
    "\n",
    "1. **Null Hypothesis (\\(H_0\\))**: The program does not improve exam scores, i.e., the mean difference is zero (\\(\\mu_d = 0\\)).\n",
    "2. **Alternative Hypothesis (\\(H_a\\))**: The program improves exam scores, i.e., the mean difference is greater than zero (\\(\\mu_d > 0\\)).\n",
    "\n",
    "---\n",
    "\n",
    " **Steps for the Test**\n",
    "1. Calculate the differences between the `before_program` and `after_program` scores for each student.\n",
    "2. Compute the mean (\\(\\bar{d}\\)) and standard deviation (\\(s_d\\)) of the differences.\n",
    "3. Use the formula for the z-score:\n",
    "   \\[\n",
    "   z = \\frac{\\bar{d}}{s_d / \\sqrt{n}}\n",
    "   \\]\n",
    "   - \\(n\\): Number of students.\n",
    "   - \\(s_d\\): Standard deviation of the differences.\n",
    "4. Compare the z-score to the critical value (\\(z_{critical} = 1.645\\) for a one-tailed test at \\(95\\%\\) confidence level) or compute the p-value.\n",
    "\n",
    "\n"
   ]
  },
  {
   "cell_type": "code",
   "execution_count": 21,
   "id": "4cbdfc1d-b9e2-42ec-ad1b-004aea3244fd",
   "metadata": {},
   "outputs": [
    {
     "name": "stdout",
     "output_type": "stream",
     "text": [
      "Mean of differences: 3.80\n",
      "Standard deviation of differences: 2.62\n",
      "Z-Score: 4.59\n",
      "P-Value: 0.0000\n",
      "Reject the null hypothesis: The tutoring program improves scores.\n"
     ]
    }
   ],
   "source": [
    "import numpy as np\n",
    "from scipy.stats import norm\n",
    "\n",
    "# Data: Scores before and after the program\n",
    "before_program = np.array([75, 80, 85, 70, 90, 78, 92, 88, 82, 87])\n",
    "after_program = np.array([80, 85, 90, 80, 92, 80, 95, 90, 85, 88])\n",
    "\n",
    "# Step 1: Calculate the differences\n",
    "differences = after_program - before_program\n",
    "\n",
    "# Step 2: Compute mean and standard deviation of the differences\n",
    "mean_diff = np.mean(differences)  # Mean of differences\n",
    "std_diff = np.std(differences, ddof=1)  # Standard deviation of differences\n",
    "n = len(differences)  # Sample size\n",
    "\n",
    "# Step 3: Calculate the z-score\n",
    "z_score = mean_diff / (std_diff / np.sqrt(n))\n",
    "\n",
    "# Step 4: Calculate the p-value\n",
    "p_value = 1 - norm.cdf(z_score)  # One-tailed test\n",
    "\n",
    "# Output the results\n",
    "print(f\"Mean of differences: {mean_diff:.2f}\")\n",
    "print(f\"Standard deviation of differences: {std_diff:.2f}\")\n",
    "print(f\"Z-Score: {z_score:.2f}\")\n",
    "print(f\"P-Value: {p_value:.4f}\")\n",
    "\n",
    "# Interpretation\n",
    "if p_value < 0.05:  # 95% confidence level\n",
    "    print(\"Reject the null hypothesis: The tutoring program improves scores.\")\n",
    "else:\n",
    "    print(\"Fail to reject the null hypothesis: No significant improvement in scores.\")"
   ]
  },
  {
   "cell_type": "markdown",
   "id": "0b184ba2-bc59-4ac1-9739-af2f5495ba35",
   "metadata": {},
   "source": [
    "QUES - 13 - :A pharmaceutical company wants to determine if a new drug is effective in reducing blood pressure. They\n",
    "conduct a study and record blood pressure measurements before and after administering the drug.\n",
    "\n",
    "\n",
    "Use the below code to generate samples of respective arrays of blood pressure:\n",
    "\n",
    "\n",
    "```python\n",
    "\n",
    "before_drug = np.array([145, 150, 140, 135, 155, 160, 152, 148, 130, 138])\n",
    "\n",
    "after_drug = np.array([130, 140, 132, 128, 145, 148, 138, 136, 125, 130])\n",
    "\n",
    "  ```\n",
    "\n",
    "\n",
    "Implement z-test to find if the drug really works or not."
   ]
  },
  {
   "cell_type": "markdown",
   "id": "8515dfa7-5e56-44fe-87bb-fac2eaeadf17",
   "metadata": {},
   "source": [
    "ANS - 13 -:\n",
    "\n",
    "\n",
    "1. **Null Hypothesis (\\(H_0\\))**: The drug has no effect on blood pressure, i.e., the mean difference between `before_drug` and `after_drug` is zero (\\(\\mu_d = 0\\)).\n",
    "2. **Alternative Hypothesis (\\(H_a\\))**: The drug reduces blood pressure, i.e., the mean difference is greater than zero (\\(\\mu_d > 0\\)).\n",
    "\n",
    "---\n",
    "\n",
    "### **Steps**\n",
    "1. Compute the differences between the blood pressure values before and after the drug for each individual.\n",
    "2. Calculate the mean (\\(\\bar{d}\\)) and standard deviation (\\(s_d\\)) of the differences.\n",
    "3. Compute the z-score using the formula:\n",
    "   \\[\n",
    "   z = \\frac{\\bar{d}}{s_d / \\sqrt{n}}\n",
    "   \\]\n",
    "   - \\(n\\): Sample size.\n",
    "   - \\(s_d\\): Standard deviation of the differences.\n",
    "4. Compare the z-score with the critical value (\\(z_{critical} = 1.645\\) for a one-tailed test at a \\(95\\%\\) confidence level) or compute the p-value.\n",
    "\n",
    "\n"
   ]
  },
  {
   "cell_type": "code",
   "execution_count": 22,
   "id": "b05c46ec-0c47-4d0d-a66c-2b569eda7308",
   "metadata": {},
   "outputs": [
    {
     "name": "stdout",
     "output_type": "stream",
     "text": [
      "Mean of differences: 10.10\n",
      "Standard deviation of differences: 3.18\n",
      "Z-Score: 10.05\n",
      "P-Value: 0.0000\n",
      "Reject the null hypothesis: The drug is effective in reducing blood pressure.\n"
     ]
    }
   ],
   "source": [
    "import numpy as np\n",
    "from scipy.stats import norm\n",
    "\n",
    "# Data: Blood pressure before and after administering the drug\n",
    "before_drug = np.array([145, 150, 140, 135, 155, 160, 152, 148, 130, 138])\n",
    "after_drug = np.array([130, 140, 132, 128, 145, 148, 138, 136, 125, 130])\n",
    "\n",
    "# Step 1: Calculate the differences\n",
    "differences = before_drug - after_drug\n",
    "\n",
    "# Step 2: Compute mean and standard deviation of the differences\n",
    "mean_diff = np.mean(differences)  # Mean of differences\n",
    "std_diff = np.std(differences, ddof=1)  # Standard deviation of differences\n",
    "n = len(differences)  # Sample size\n",
    "\n",
    "# Step 3: Calculate the z-score\n",
    "z_score = mean_diff / (std_diff / np.sqrt(n))\n",
    "\n",
    "# Step 4: Calculate the p-value\n",
    "p_value = 1 - norm.cdf(z_score)  # One-tailed test\n",
    "\n",
    "# Output the results\n",
    "print(f\"Mean of differences: {mean_diff:.2f}\")\n",
    "print(f\"Standard deviation of differences: {std_diff:.2f}\")\n",
    "print(f\"Z-Score: {z_score:.2f}\")\n",
    "print(f\"P-Value: {p_value:.4f}\")\n",
    "\n",
    "# Interpretation\n",
    "if p_value < 0.05:  # 95% confidence level\n",
    "    print(\"Reject the null hypothesis: The drug is effective in reducing blood pressure.\")\n",
    "else:\n",
    "    print(\"Fail to reject the null hypothesis: No significant effect of the drug on blood pressure.\")"
   ]
  },
  {
   "cell_type": "markdown",
   "id": "cdd62fe2-d1e3-46f6-bb66-042319bb33ae",
   "metadata": {},
   "source": [
    "QUES - 14 - :29U A customer service department claims that their average response time is less than 5 minutes. A sample\n",
    "of recent customer interactions was taken, and the response times were recorded.\n",
    "\n",
    "\n",
    "Implement the below code to generate the array of response time:\n",
    "\n",
    "```python\n",
    "\n",
    "response_times = np.array([4.3, 3.8, 5.1, 4.9, 4.7, 4.2, 5.2, 4.5, 4.6, 4.4])\n",
    "\n",
    "```\n",
    "\n",
    "Implement z-test to find the claims made by customer service department are tru or false."
   ]
  },
  {
   "cell_type": "markdown",
   "id": "79cc0416-e9e4-4afa-9714-d084b3e9b5d9",
   "metadata": {},
   "source": [
    "ANS - 14 -:\n",
    "\n",
    "1. **Null Hypothesis (\\(H_0\\))**: The average response time is \\( \\geq 5 \\) minutes (\\(\\mu \\geq 5\\)).\n",
    "2. **Alternative Hypothesis (\\(H_a\\))**: The average response time is \\( < 5 \\) minutes (\\(\\mu < 5\\)).\n",
    "\n",
    "This is a **one-tailed test** to see if the average response time is significantly less than 5 minutes.\n",
    "\n",
    "The **z-score formula** for a one-sample test:\n",
    "\\[\n",
    "z = \\frac{\\bar{x} - \\mu}{s / \\sqrt{n}}\n",
    "\\]\n",
    "- \\(\\bar{x}\\): Sample mean.\n",
    "- \\(\\mu\\): Hypothesized population mean (5 in this case).\n",
    "- \\(s\\): Sample standard deviation.\n",
    "- \\(n\\): Number of samples.\n",
    "\n"
   ]
  },
  {
   "cell_type": "code",
   "execution_count": 23,
   "id": "ae50e7a2-4bc9-447a-9162-bec5035c1028",
   "metadata": {},
   "outputs": [
    {
     "name": "stdout",
     "output_type": "stream",
     "text": [
      "Sample Mean: 4.57\n",
      "Sample Standard Deviation: 0.43\n",
      "Z-Score: -3.18\n",
      "P-Value: 0.0007\n",
      "Reject the null hypothesis: The average response time is less than 5 minutes.\n"
     ]
    }
   ],
   "source": [
    "import numpy as np\n",
    "from scipy.stats import norm\n",
    "\n",
    "# Data: Response times\n",
    "response_times = np.array([4.3, 3.8, 5.1, 4.9, 4.7, 4.2, 5.2, 4.5, 4.6, 4.4])\n",
    "\n",
    "# Step 1: Define the hypothesized mean and calculate sample statistics\n",
    "hypothesized_mean = 5  # Population mean to test against\n",
    "sample_mean = np.mean(response_times)  # Sample mean\n",
    "sample_std = np.std(response_times, ddof=1)  # Sample standard deviation\n",
    "n = len(response_times)  # Number of samples\n",
    "\n",
    "# Step 2: Calculate the z-score\n",
    "z_score = (sample_mean - hypothesized_mean) / (sample_std / np.sqrt(n))\n",
    "\n",
    "# Step 3: Calculate the p-value for one-tailed test\n",
    "p_value = norm.cdf(z_score)  # Since we are testing for less than 5 minutes\n",
    "\n",
    "# Output the results\n",
    "print(f\"Sample Mean: {sample_mean:.2f}\")\n",
    "print(f\"Sample Standard Deviation: {sample_std:.2f}\")\n",
    "print(f\"Z-Score: {z_score:.2f}\")\n",
    "print(f\"P-Value: {p_value:.4f}\")\n",
    "\n",
    "# Step 4: Interpretation\n",
    "if p_value < 0.05:  # 95% confidence level\n",
    "    print(\"Reject the null hypothesis: The average response time is less than 5 minutes.\")\n",
    "else:\n",
    "    print(\"Fail to reject the null hypothesis: The average response time is not significantly less than 5 minutes.\")"
   ]
  },
  {
   "cell_type": "markdown",
   "id": "e1ca9121-09e3-455e-aa5c-5484456a3ccf",
   "metadata": {},
   "source": [
    "QUES - 15 - : 2£U A company is testing two different website layouts to see which one leads to higher click-through rates.\n",
    "Write a Python function to perform an A/B test analysis, including calculating the t-statistic, degrees of\n",
    "freedom, and p-value.\n",
    "\n",
    "\n",
    "Use the following data:\n",
    "\n",
    "```python\n",
    "\n",
    "layout_a_clicks = [28, 32, 33, 29, 31, 34, 30, 35, 36, 37]\n",
    "\n",
    "layout_b_clicks = [40, 41, 38, 42, 39, 44, 43, 41, 45, 47]"
   ]
  },
  {
   "cell_type": "markdown",
   "id": "da555424-65b1-4689-834c-8c4590756fd6",
   "metadata": {},
   "source": [
    "ANS - 15 -:\n",
    "\n",
    "\n",
    "To determine which website layout has a higher click-through rate, we can perform an **independent t-test**. This test compares the means of the two layouts to see if the difference is statistically significant.\n",
    "\n",
    "---\n",
    "\n",
    "### **Theory**\n",
    "1. **Null Hypothesis (\\(H_0\\))**: The click-through rates of the two layouts are equal (\\(\\mu_A = \\mu_B\\)).\n",
    "2. **Alternative Hypothesis (\\(H_a\\))**: The click-through rates are not equal (\\(\\mu_A \\neq \\mu_B\\)).\n",
    "\n",
    "The formula for the t-statistic in an independent t-test is:\n",
    "\\[\n",
    "t = \\frac{\\bar{X}_A - \\bar{X}_B}{\\sqrt{\\frac{s_A^2}{n_A} + \\frac{s_B^2}{n_B}}}\n",
    "\\]\n",
    "Where:\n",
    "- \\(\\bar{X}_A, \\bar{X}_B\\): Means of samples A and B.\n",
    "- \\(s_A^2, s_B^2\\): Variances of samples A and B.\n",
    "- \\(n_A, n_B\\): Sample sizes.\n",
    "\n",
    "Degrees of freedom are calculated using:\n",
    "\\[\n",
    "df = \\frac{\\left(\\frac{s_A^2}{n_A} + \\frac{s_B^2}{n_B}\\right)^2}{\\frac{\\left(\\frac{s_A^2}{n_A}\\right)^2}{n_A - 1} + \\frac{\\left(\\frac{s_B^2}{n_B}\\right)^2}{n_B - 1}}\n",
    "\\]\n",
    "\n"
   ]
  },
  {
   "cell_type": "code",
   "execution_count": 24,
   "id": "9c24d5fd-dac5-45cb-a681-81b567e872a0",
   "metadata": {},
   "outputs": [
    {
     "name": "stdout",
     "output_type": "stream",
     "text": [
      "T-Statistic: -7.30\n",
      "Degrees of Freedom: 17.88\n",
      "P-Value: 0.0000\n",
      "Reject the null hypothesis: There is a significant difference between the two layouts.\n"
     ]
    }
   ],
   "source": [
    "import numpy as np\n",
    "from scipy.stats import t\n",
    "\n",
    "def ab_test_analysis(layout_a, layout_b):\n",
    "    # Step 1: Calculate sample means and variances\n",
    "    mean_a = np.mean(layout_a)\n",
    "    mean_b = np.mean(layout_b)\n",
    "    var_a = np.var(layout_a, ddof=1)\n",
    "    var_b = np.var(layout_b, ddof=1)\n",
    "    n_a = len(layout_a)\n",
    "    n_b = len(layout_b)\n",
    "\n",
    "    # Step 2: Calculate the t-statistic\n",
    "    t_stat = (mean_a - mean_b) / np.sqrt(var_a / n_a + var_b / n_b)\n",
    "\n",
    "    # Step 3: Calculate degrees of freedom\n",
    "    numerator = (var_a / n_a + var_b / n_b) ** 2\n",
    "    denominator = (var_a / n_a) ** 2 / (n_a - 1) + (var_b / n_b) ** 2 / (n_b - 1)\n",
    "    degrees_of_freedom = numerator / denominator\n",
    "\n",
    "    # Step 4: Calculate p-value for two-tailed test\n",
    "    p_value = 2 * (1 - t.cdf(abs(t_stat), df=degrees_of_freedom))\n",
    "\n",
    "    # Step 5: Return results\n",
    "    return {\n",
    "        \"t_statistic\": t_stat,\n",
    "        \"degrees_of_freedom\": degrees_of_freedom,\n",
    "        \"p_value\": p_value\n",
    "    }\n",
    "\n",
    "# Data: Click-through rates for layouts A and B\n",
    "layout_a_clicks = [28, 32, 33, 29, 31, 34, 30, 35, 36, 37]\n",
    "layout_b_clicks = [40, 41, 38, 42, 39, 44, 43, 41, 45, 47]\n",
    "\n",
    "# Perform the A/B test analysis\n",
    "result = ab_test_analysis(layout_a_clicks, layout_b_clicks)\n",
    "\n",
    "# Display the results\n",
    "print(f\"T-Statistic: {result['t_statistic']:.2f}\")\n",
    "print(f\"Degrees of Freedom: {result['degrees_of_freedom']:.2f}\")\n",
    "print(f\"P-Value: {result['p_value']:.4f}\")\n",
    "\n",
    "# Interpretation\n",
    "if result[\"p_value\"] < 0.05:\n",
    "    print(\"Reject the null hypothesis: There is a significant difference between the two layouts.\")\n",
    "else:\n",
    "    print(\"Fail to reject the null hypothesis: No significant difference between the two layouts.\")"
   ]
  },
  {
   "cell_type": "markdown",
   "id": "1ab90ca6-d126-49e2-b4f2-86bd53bf7a99",
   "metadata": {},
   "source": [
    "QUES - 16 - : U A pharmaceutical company wants to determine if a new drug is more effective than an existing drug in\n",
    "reducing cholesterol levels. Create a program to analyze the clinical trial data and calculate the tstatistic and p-value for the treatment effect.\n",
    "\n",
    "\n",
    "Use the following data of cholestrol level:\n",
    "\n",
    "```python\n",
    "\n",
    "existing_drug_levels = [180, 182, 175, 185, 178, 176, 172, 184, 179, 183]\n",
    "\n",
    "new_drug_levels = [170, 172, 165, 168, 175, 173, 170, 178, 172, 176]"
   ]
  },
  {
   "cell_type": "markdown",
   "id": "d092311e-f5ea-45ab-8707-85dcd4b28966",
   "metadata": {},
   "source": [
    "ANS - 16 -:\n",
    "\n",
    "To analyze whether the new drug is more effective than the existing drug in reducing cholesterol levels, we will use a **t-test** for independent samples. This test compares the means of two independent groups (in this case, the cholesterol levels from the existing drug and the new drug) to determine if there is a statistically significant difference between them.\n",
    "\n",
    "Here are the steps:\n",
    "\n",
    "### 1. **State the Hypotheses:**\n",
    "   - **Null Hypothesis (H₀):** There is no difference in cholesterol levels between the two drugs.\n",
    "   - **Alternative Hypothesis (H₁):** There is a significant difference in cholesterol levels between the two drugs.\n",
    "\n",
    "### 2. **Perform a Two-Sample t-Test:**\n",
    "   We use a **two-sample t-test** to compare the means of two groups. We will calculate the **t-statistic** and the **p-value**.\n",
    "\n",
    "   - **t-statistic** measures how far the sample mean of the new drug is from the existing drug, relative to the variability of the samples.\n",
    "   - **p-value** helps us determine the statistical significance of the observed difference.\n",
    "\n",
    "If the **p-value** is less than the significance level (usually 0.05), we reject the null hypothesis and conclude that the new drug is more effective.\n",
    "\n",
    "### 3. **Code to Perform the t-Test:**\n",
    "\n",
    "We will use Python's `scipy.stats.ttest_ind()` function to perform the t-test.\n",
    "\n"
   ]
  },
  {
   "cell_type": "code",
   "execution_count": 25,
   "id": "3f935c94-757c-4e28-903e-b59990ab9054",
   "metadata": {},
   "outputs": [
    {
     "name": "stdout",
     "output_type": "stream",
     "text": [
      "T-statistic: -4.14048098620866\n",
      "P-value: 0.0006143398442372505\n",
      "Reject the null hypothesis: The new drug is more effective in reducing cholesterol levels.\n"
     ]
    }
   ],
   "source": [
    "import scipy.stats as stats\n",
    "\n",
    "# Cholesterol levels for both drugs\n",
    "existing_drug_levels = [180, 182, 175, 185, 178, 176, 172, 184, 179, 183]\n",
    "new_drug_levels = [170, 172, 165, 168, 175, 173, 170, 178, 172, 176]\n",
    "\n",
    "# Perform a two-sample t-test\n",
    "t_statistic, p_value = stats.ttest_ind(new_drug_levels, existing_drug_levels)\n",
    "\n",
    "# Output the results\n",
    "print(\"T-statistic:\", t_statistic)\n",
    "print(\"P-value:\", p_value)\n",
    "\n",
    "# Interpretation\n",
    "if p_value < 0.05:\n",
    "    print(\"Reject the null hypothesis: The new drug is more effective in reducing cholesterol levels.\")\n",
    "else:\n",
    "    print(\"Fail to reject the null hypothesis: There is no significant difference between the two drugs.\")"
   ]
  },
  {
   "cell_type": "markdown",
   "id": "41574328-bc3c-4343-ab6b-6655c697dbea",
   "metadata": {},
   "source": [
    "QUES - 17 - : A school district introduces an educational intervention program to improve math scores. Write a Python\n",
    "function to analyze pre- and post-intervention test scores, calculating the t-statistic and p-value to\n",
    "determine if the intervention had a significant impact.\n",
    "\n",
    "\n",
    "Use the following data of test score:\n",
    "\n",
    "\n",
    "  ```python\n",
    "\n",
    "  pre_intervention_scores = [80, 85, 90, 75, 88, 82, 92, 78, 85, 87]\n",
    "\n",
    "  post_intervention_scores = [90, 92, 88, 92, 95, 91, 96, 93, 89, 93]"
   ]
  },
  {
   "cell_type": "markdown",
   "id": "91a07f9c-1060-4741-81b8-14934115b9ab",
   "metadata": {},
   "source": [
    "ANS - 17 -:\n",
    "\n",
    "To analyze the impact of the educational intervention program, we will perform a **paired t-test** because the data consists of **pre-intervention** and **post-intervention** scores for the same group of students. The paired t-test is appropriate here as we are comparing the means of two related groups (before and after the intervention).\n",
    "\n",
    "### Steps:\n",
    "1. **State the Hypotheses:**\n",
    "   - **Null Hypothesis (H₀):** The intervention had no effect on the test scores (i.e., the mean difference between pre- and post-scores is zero).\n",
    "   - **Alternative Hypothesis (H₁):** The intervention had an effect on the test scores (i.e., the mean difference between pre- and post-scores is not zero).\n",
    "\n",
    "2. **Perform Paired t-Test:**\n",
    "   - The paired t-test will compare the **mean difference** between pre- and post-scores.\n",
    "   - The test will return a **t-statistic** and a **p-value**.\n",
    "     - **t-statistic** measures how far the mean difference is from zero, in terms of the variability of the sample.\n",
    "     - **p-value** helps us determine if the observed difference is statistically significant.\n",
    "\n",
    "3. **Code to Perform Paired t-Test:**\n",
    "\n",
    "Here’s the Python code to perform the paired t-test:\n",
    "\n"
   ]
  },
  {
   "cell_type": "code",
   "execution_count": 26,
   "id": "0185a5ef-ed11-4b96-b1a3-e287b75aa1f8",
   "metadata": {},
   "outputs": [
    {
     "name": "stdout",
     "output_type": "stream",
     "text": [
      "T-statistic: 4.42840883965761\n",
      "P-value: 0.0016509548165795493\n",
      "Reject the null hypothesis: The intervention had a significant impact on test scores.\n"
     ]
    }
   ],
   "source": [
    "import scipy.stats as stats\n",
    "\n",
    "# Test scores before and after the intervention\n",
    "pre_intervention_scores = [80, 85, 90, 75, 88, 82, 92, 78, 85, 87]\n",
    "post_intervention_scores = [90, 92, 88, 92, 95, 91, 96, 93, 89, 93]\n",
    "\n",
    "# Perform a paired t-test\n",
    "t_statistic, p_value = stats.ttest_rel(post_intervention_scores, pre_intervention_scores)\n",
    "\n",
    "# Output the results\n",
    "print(\"T-statistic:\", t_statistic)\n",
    "print(\"P-value:\", p_value)\n",
    "\n",
    "# Interpretation\n",
    "if p_value < 0.05:\n",
    "    print(\"Reject the null hypothesis: The intervention had a significant impact on test scores.\")\n",
    "else:\n",
    "    print(\"Fail to reject the null hypothesis: The intervention did not have a significant impact on test scores.\")"
   ]
  },
  {
   "cell_type": "markdown",
   "id": "3a36b7e7-ac4a-4b96-bc72-7bea2be6cff5",
   "metadata": {},
   "source": [
    "QUES - 18 - :VX? An HR department wants to investigate if there's a gender-based salary gap within the company. Develop\n",
    "a program to analyze salary data, calculate the t-statistic, and determine if there's a statistically\n",
    "significant difference between the average salaries of male and female employees.\n",
    "\n",
    "\n",
    "Use the below code to generate synthetic data:\n",
    "\n",
    "\n",
    "```python\n",
    "\n",
    "# Generate synthetic salary data for male and female employees\n",
    "\n",
    "np.random.seed(0)  # For reproducibility\n",
    "\n",
    "male_salaries = np.random.normal(loc=50000, scale=10000, size=20)\n",
    "\n",
    "female_salaries = np.random.normal(loc=55000, scale=9000, size=20)"
   ]
  },
  {
   "cell_type": "markdown",
   "id": "5439c36d-0e3a-47f2-a1cc-f024bf42a030",
   "metadata": {},
   "source": [
    "ANS - 18 -:\n",
    "\n",
    "To investigate if there is a gender-based salary gap within the company, we can use a **two-sample t-test**. This test will compare the average salaries of male and female employees to see if there is a statistically significant difference between the two groups.\n",
    "\n",
    "### Steps to Follow:\n",
    "\n",
    "1. **State the Hypotheses:**\n",
    "   - **Null Hypothesis (H₀):** There is no difference in the average salaries of male and female employees (i.e., the means of the two groups are equal).\n",
    "   - **Alternative Hypothesis (H₁):** There is a difference in the average salaries of male and female employees (i.e., the means of the two groups are not equal).\n",
    "\n",
    "2. **Perform a Two-Sample t-Test:**\n",
    "   - A two-sample t-test will compare the means of the two groups (male and female salaries) to determine if the difference is statistically significant.\n",
    "   - The test will return a **t-statistic** and a **p-value**:\n",
    "     - **t-statistic** measures how far apart the two means are, relative to the variability in the samples.\n",
    "     - **p-value** indicates whether the difference is statistically significant. If the p-value is less than 0.05, we can reject the null hypothesis.\n",
    "\n",
    "3. **Code to Perform the t-Test:**\n",
    "\n",
    "Here’s the Python code that uses synthetic data to analyze if there's a gender-based salary gap:\n"
   ]
  },
  {
   "cell_type": "code",
   "execution_count": 27,
   "id": "310d97aa-527f-4907-bba9-30e162cfed70",
   "metadata": {},
   "outputs": [
    {
     "name": "stdout",
     "output_type": "stream",
     "text": [
      "T-statistic: 0.06114208969631383\n",
      "P-value: 0.9515665020676465\n",
      "Fail to reject the null hypothesis: There is no significant difference between the average salaries of male and female employees.\n"
     ]
    }
   ],
   "source": [
    "\n",
    "import numpy as np\n",
    "import scipy.stats as stats\n",
    "\n",
    "# Generate synthetic salary data for male and female employees\n",
    "np.random.seed(0)  # For reproducibility\n",
    "\n",
    "male_salaries = np.random.normal(loc=50000, scale=10000, size=20)\n",
    "female_salaries = np.random.normal(loc=55000, scale=9000, size=20)\n",
    "\n",
    "# Perform a two-sample t-test\n",
    "t_statistic, p_value = stats.ttest_ind(male_salaries, female_salaries)\n",
    "\n",
    "# Output the results\n",
    "print(\"T-statistic:\", t_statistic)\n",
    "print(\"P-value:\", p_value)\n",
    "\n",
    "# Interpretation\n",
    "if p_value < 0.05:\n",
    "    print(\"Reject the null hypothesis: There is a significant difference between the average salaries of male and female employees.\")\n",
    "else:\n",
    "    print(\"Fail to reject the null hypothesis: There is no significant difference between the average salaries of male and female employees.\")\n"
   ]
  },
  {
   "cell_type": "markdown",
   "id": "8a4d273a-9e78-487d-9fe5-5de6c71e4d74",
   "metadata": {},
   "source": [
    "QUES - 19 - : V? A manufacturer produces two different versions of a product and wants to compare their quality scores.\n",
    "Create a Python function to analyze quality assessment data, calculate the t-statistic, and decide\n",
    "whether there's a significant difference in quality between the two versions.\n",
    "\n",
    "\n",
    "Use the following data:\n",
    "\n",
    "\n",
    "```python\n",
    "\n",
    "version1_scores = [85, 88, 82, 89, 87, 84, 90, 88, 85, 86, 91, 83, 87, 84, 89, 86, 84, 88, 85, 86, 89, 90, 87, 88, 85]\n",
    "\n",
    "version2_scores = [80, 78, 83, 81, 79, 82, 76, 80, 78, 81, 77, 82, 80, 79, 82, 79, 80, 81, 79, 82, 79, 78, 80, 81, 82]"
   ]
  },
  {
   "cell_type": "markdown",
   "id": "458f2d9d-8304-44b4-a130-bc31fe2b2f61",
   "metadata": {},
   "source": [
    "ANS - 19 -: \n",
    "\n",
    "To analyze if there is a significant difference in quality between the two versions of the product, we can use a **two-sample t-test**. This will help us compare the mean quality scores of the two versions to see if they are significantly different.\n",
    "\n",
    "### Steps:\n",
    "1. **State the Hypotheses:**\n",
    "   - **Null Hypothesis (H₀):** There is no significant difference in the quality scores between the two versions (i.e., the means of the two groups are equal).\n",
    "   - **Alternative Hypothesis (H₁):** There is a significant difference in the quality scores between the two versions (i.e., the means of the two groups are not equal).\n",
    "\n",
    "2. **Perform a Two-Sample t-Test:**\n",
    "   - A two-sample t-test will calculate the **t-statistic** and **p-value**, which we will use to determine whether the difference in quality scores is statistically significant.\n",
    "     - **t-statistic:** Measures how far apart the means of the two groups are, relative to the variability in the samples.\n",
    "     - **p-value:** If the p-value is less than 0.05, we reject the null hypothesis, indicating that the difference is statistically significant.\n",
    "\n",
    "### Python Code for the t-Test:\n",
    "\n"
   ]
  },
  {
   "cell_type": "code",
   "execution_count": 28,
   "id": "d592a787-5b44-4345-b7e8-a8a477c4d078",
   "metadata": {},
   "outputs": [
    {
     "name": "stdout",
     "output_type": "stream",
     "text": [
      "T-statistic: 11.325830417646698\n",
      "P-value: 3.6824250702873965e-15\n",
      "Reject the null hypothesis: There is a significant difference in quality between the two versions.\n"
     ]
    }
   ],
   "source": [
    "import numpy as np\n",
    "import scipy.stats as stats\n",
    "\n",
    "# Quality scores for version 1 and version 2\n",
    "version1_scores = [85, 88, 82, 89, 87, 84, 90, 88, 85, 86, 91, 83, 87, 84, 89, 86, 84, 88, 85, 86, 89, 90, 87, 88, 85]\n",
    "version2_scores = [80, 78, 83, 81, 79, 82, 76, 80, 78, 81, 77, 82, 80, 79, 82, 79, 80, 81, 79, 82, 79, 78, 80, 81, 82]\n",
    "\n",
    "# Perform a two-sample t-test\n",
    "t_statistic, p_value = stats.ttest_ind(version1_scores, version2_scores)\n",
    "\n",
    "# Output the results\n",
    "print(\"T-statistic:\", t_statistic)\n",
    "print(\"P-value:\", p_value)\n",
    "\n",
    "# Interpretation\n",
    "if p_value < 0.05:\n",
    "    print(\"Reject the null hypothesis: There is a significant difference in quality between the two versions.\")\n",
    "else:\n",
    "    print(\"Fail to reject the null hypothesis: There is no significant difference in quality between the two versions.\")\n"
   ]
  },
  {
   "cell_type": "markdown",
   "id": "7c1c229e-ee92-43da-a474-917e6c090586",
   "metadata": {},
   "source": [
    "QUES - 20 - : A restaurant chain collects customer satisfaction scores for two different branches. Write a program to\n",
    "analyze the scores, calculate the t-statistic, and determine if there's a statistically significant difference in\n",
    "customer satisfaction between the branches.\n",
    "\n",
    "\n",
    "Use the below data of scores:\n",
    "\n",
    "  ```python\n",
    "\n",
    "branch_a_scores = [4, 5, 3, 4, 5, 4, 5, 3, 4, 4, 5, 4, 4, 3, 4, 5, 5, 4, 3, 4, 5, 4, 3, 5, 4, 4, 5, 3, 4, 5, 4]\n",
    "\n",
    "branch_b_scores = [3, 4, 2, 3, 4, 3, 4, 2, 3, 3, 4, 3, 3, 2, 3, 4, 4, 3, 2, 3, 4, 3, 2, 4, 3, 3, 4, 2, 3, 4, 3]"
   ]
  },
  {
   "cell_type": "markdown",
   "id": "89eecad8-f1ea-4954-9398-de5e7f6d572f",
   "metadata": {},
   "source": [
    "ANS - 20 -:\n",
    "\n",
    "To determine whether there is a statistically significant difference in customer satisfaction scores between two branches of a restaurant chain, we can use a **two-sample t-test**. This test will help us compare the means of the satisfaction scores from the two branches to see if they are significantly different.\n",
    "\n",
    "### Steps:\n",
    "1. **State the Hypotheses:**\n",
    "   - **Null Hypothesis (H₀):** There is no significant difference in the customer satisfaction scores between the two branches (i.e., the means of the two groups are equal).\n",
    "   - **Alternative Hypothesis (H₁):** There is a significant difference in the customer satisfaction scores between the two branches (i.e., the means of the two groups are not equal).\n",
    "\n",
    "2. **Perform a Two-Sample t-Test:**\n",
    "   - This will compute the **t-statistic** and **p-value**, which will help us assess whether the difference in means is statistically significant.\n",
    "\n",
    "### Python Code for the t-Test:\n"
   ]
  },
  {
   "cell_type": "code",
   "execution_count": 29,
   "id": "1faac371-9221-449c-aa44-b5871f9c6a8e",
   "metadata": {},
   "outputs": [
    {
     "name": "stdout",
     "output_type": "stream",
     "text": [
      "T-statistic: 5.480077554195743\n",
      "P-value: 8.895290509945655e-07\n",
      "Reject the null hypothesis: There is a significant difference in customer satisfaction between the two branches.\n"
     ]
    }
   ],
   "source": [
    "\n",
    "import numpy as np\n",
    "import scipy.stats as stats\n",
    "\n",
    "# Customer satisfaction scores for Branch A and Branch B\n",
    "branch_a_scores = [4, 5, 3, 4, 5, 4, 5, 3, 4, 4, 5, 4, 4, 3, 4, 5, 5, 4, 3, 4, 5, 4, 3, 5, 4, 4, 5, 3, 4, 5, 4]\n",
    "branch_b_scores = [3, 4, 2, 3, 4, 3, 4, 2, 3, 3, 4, 3, 3, 2, 3, 4, 4, 3, 2, 3, 4, 3, 2, 4, 3, 3, 4, 2, 3, 4, 3]\n",
    "\n",
    "# Perform a two-sample t-test\n",
    "t_statistic, p_value = stats.ttest_ind(branch_a_scores, branch_b_scores)\n",
    "\n",
    "# Output the results\n",
    "print(\"T-statistic:\", t_statistic)\n",
    "print(\"P-value:\", p_value)\n",
    "\n",
    "# Interpretation\n",
    "if p_value < 0.05:\n",
    "    print(\"Reject the null hypothesis: There is a significant difference in customer satisfaction between the two branches.\")\n",
    "else:\n",
    "    print(\"Fail to reject the null hypothesis: There is no significant difference in customer satisfaction between the two branches.\")"
   ]
  },
  {
   "cell_type": "markdown",
   "id": "a831c166-a9d1-4762-a7ad-004fdba44edd",
   "metadata": {},
   "source": [
    "QUES - 21 - : A political analyst wants to determine if there is a significant association between age groups and voter\n",
    "preferences (Candidate A or Candidate B). They collect data from a sample of 500 voters and classify\n",
    "them into different age groups and candidate preferences. Perform a Chi-Square test to determine if\n",
    "there is a significant association between age groups and voter preferences.\n",
    "\n",
    "\n",
    "Use the below code to generate data:\n",
    "\n",
    "```python\n",
    "\n",
    "np.random.seed(0)\n",
    "\n",
    "age_groups = np.random.choice([ 18 30 , 31 50 , 51+', 51+'], size=30)\n",
    "\n",
    "voter_preferences = np.random.choice(['Candidate A', 'Candidate B'], size=30)"
   ]
  },
  {
   "cell_type": "markdown",
   "id": "2008cebd-d988-498a-8fa1-7bc9f5758fe3",
   "metadata": {},
   "source": [
    "ANS - 21 -:\n",
    "\n",
    "To determine if there is a significant association between age groups and voter preferences, you can perform a **Chi-Square test of independence**. This test checks if there is a relationship between two categorical variables. In your case, we will test if age group and voter preference are independent or related.\n",
    "\n",
    "### Steps for the Chi-Square Test:\n",
    "\n",
    "1. **Create a Contingency Table:**\n",
    "   - We need to create a **contingency table** (cross-tabulation) of age groups and voter preferences. This table will show how many voters from each age group prefer Candidate A or Candidate B.\n",
    "\n",
    "2. **Perform the Chi-Square Test:**\n",
    "   - Use `scipy.stats.chi2_contingency` to perform the Chi-Square test, which will calculate the **Chi-Square statistic** and the **p-value**.\n",
    "\n",
    "3. **Interpret the Results:**\n",
    "   - If the p-value is less than the significance level (usually 0.05), we reject the null hypothesis, which suggests that age and voter preference are **not independent** and are significantly related.\n",
    "\n",
    "### Python Code Implementation:\n"
   ]
  },
  {
   "cell_type": "code",
   "execution_count": 30,
   "id": "8eefdd4f-2f56-425a-9fcc-770ede96eb18",
   "metadata": {},
   "outputs": [
    {
     "name": "stdout",
     "output_type": "stream",
     "text": [
      "Contingency Table:\n",
      "Voter Preference  Candidate A  Candidate B\n",
      "Age Group                                 \n",
      "18-30                      95           87\n",
      "31-50                      87           82\n",
      "51+                        84           65\n",
      "\n",
      "Chi-Square Statistic: 0.8779923945254768\n",
      "P-value: 0.6446832311860852\n",
      "Degrees of Freedom: 2\n",
      "Expected Frequencies Table:\n",
      "[[96.824 85.176]\n",
      " [89.908 79.092]\n",
      " [79.268 69.732]]\n",
      "\n",
      "Fail to reject the null hypothesis: There is no significant association between age group and voter preference.\n"
     ]
    }
   ],
   "source": [
    "\n",
    "import numpy as np\n",
    "import pandas as pd\n",
    "from scipy.stats import chi2_contingency\n",
    "\n",
    "# Generate synthetic data\n",
    "np.random.seed(0)\n",
    "\n",
    "# Define age groups and voter preferences\n",
    "age_groups = np.random.choice(['18-30', '31-50', '51+'], size=500)\n",
    "voter_preferences = np.random.choice(['Candidate A', 'Candidate B'], size=500)\n",
    "\n",
    "# Create a DataFrame for better visualization\n",
    "data = pd.DataFrame({'Age Group': age_groups, 'Voter Preference': voter_preferences})\n",
    "\n",
    "# Create a contingency table (cross-tabulation)\n",
    "contingency_table = pd.crosstab(data['Age Group'], data['Voter Preference'])\n",
    "\n",
    "# Perform the Chi-Square test\n",
    "chi2_stat, p_value, dof, expected = chi2_contingency(contingency_table)\n",
    "\n",
    "# Output the results\n",
    "print(\"Contingency Table:\")\n",
    "print(contingency_table)\n",
    "print(\"\\nChi-Square Statistic:\", chi2_stat)\n",
    "print(\"P-value:\", p_value)\n",
    "print(\"Degrees of Freedom:\", dof)\n",
    "print(\"Expected Frequencies Table:\")\n",
    "print(expected)\n",
    "\n",
    "# Interpretation\n",
    "if p_value < 0.05:\n",
    "    print(\"\\nReject the null hypothesis: There is a significant association between age group and voter preference.\")\n",
    "else:\n",
    "    print(\"\\nFail to reject the null hypothesis: There is no significant association between age group and voter preference.\")"
   ]
  },
  {
   "cell_type": "markdown",
   "id": "43a4e58e-533a-4838-9eef-9be14e981f13",
   "metadata": {},
   "source": [
    "QUES - 22 - :  A company conducted a customer satisfaction survey to determine if there is a significant relationship\n",
    "between product satisfaction levels (Satisfied, Neutral, Dissatisfied) and the region where customers are\n",
    "located (East, West, North, South). The survey data is summarized in a contingency table. Conduct a ChiSquare test to determine if there is a significant relationship between product satisfaction levels and\n",
    "customer regions.\n",
    "\n",
    "\n",
    "Sample data:\n",
    "\n",
    "```python\n",
    "\n",
    "#Sample data: Product satisfaction levels (rows) vs. Customer regions (columns)\n",
    "\n",
    "data = np.array([[50, 30, 40, 20], [30, 40, 30, 50], [20, 30, 40, 30]])"
   ]
  },
  {
   "cell_type": "markdown",
   "id": "1bf67dd0-6558-43e2-844b-a766187f6e7a",
   "metadata": {},
   "source": [
    "ANS - 22 -:\n",
    "\n",
    "To determine if there is a significant relationship between product satisfaction levels and customer regions, you can perform a **Chi-Square test of independence**. This test checks whether there is a relationship between two categorical variables—in this case, **product satisfaction levels** (Satisfied, Neutral, Dissatisfied) and **customer regions** (East, West, North, South).\n",
    "\n",
    "### Steps for the Chi-Square Test:\n",
    "\n",
    "1. **Construct the Contingency Table:**\n",
    "   - The sample data you provided is already in the form of a contingency table. Each row represents a product satisfaction level (Satisfied, Neutral, Dissatisfied), and each column represents a region (East, West, North, South).\n",
    "   \n",
    "2. **Perform the Chi-Square Test:**\n",
    "   - Use `scipy.stats.chi2_contingency()` to perform the Chi-Square test. This will calculate the **Chi-Square statistic**, **p-value**, degrees of freedom, and the **expected frequency table**.\n",
    "\n",
    "3. **Interpret the Results:**\n",
    "   - If the **p-value** is less than 0.05, we reject the null hypothesis, which suggests that there is a significant relationship between product satisfaction levels and customer regions.\n",
    "   \n",
    "### Python Code Implementation:\n",
    "\n"
   ]
  },
  {
   "cell_type": "code",
   "execution_count": 31,
   "id": "44cba41d-93c1-4c82-a849-b3abdb2e70de",
   "metadata": {},
   "outputs": [
    {
     "name": "stdout",
     "output_type": "stream",
     "text": [
      "Contingency Table:\n",
      "[[50 30 40 20]\n",
      " [30 40 30 50]\n",
      " [20 30 40 30]]\n",
      "\n",
      "Chi-Square Statistic: 27.777056277056275\n",
      "P-value: 0.00010349448486004387\n",
      "Degrees of Freedom: 6\n",
      "Expected Frequencies Table:\n",
      "[[34.14634146 34.14634146 37.56097561 34.14634146]\n",
      " [36.58536585 36.58536585 40.24390244 36.58536585]\n",
      " [29.26829268 29.26829268 32.19512195 29.26829268]]\n",
      "\n",
      "Reject the null hypothesis: There is a significant relationship between product satisfaction levels and customer regions.\n"
     ]
    }
   ],
   "source": [
    "import numpy as np\n",
    "from scipy.stats import chi2_contingency\n",
    "\n",
    "# Sample data: Product satisfaction levels (rows) vs. Customer regions (columns)\n",
    "data = np.array([[50, 30, 40, 20],  # Satisfied\n",
    "                 [30, 40, 30, 50],  # Neutral\n",
    "                 [20, 30, 40, 30]])  # Dissatisfied\n",
    "\n",
    "# Perform the Chi-Square test\n",
    "chi2_stat, p_value, dof, expected = chi2_contingency(data)\n",
    "\n",
    "# Output the results\n",
    "print(\"Contingency Table:\")\n",
    "print(data)\n",
    "print(\"\\nChi-Square Statistic:\", chi2_stat)\n",
    "print(\"P-value:\", p_value)\n",
    "print(\"Degrees of Freedom:\", dof)\n",
    "print(\"Expected Frequencies Table:\")\n",
    "print(expected)\n",
    "\n",
    "# Interpretation\n",
    "if p_value < 0.05:\n",
    "    print(\"\\nReject the null hypothesis: There is a significant relationship between product satisfaction levels and customer regions.\")\n",
    "else:\n",
    "    print(\"\\nFail to reject the null hypothesis: There is no significant relationship between product satisfaction levels and customer regions.\")"
   ]
  },
  {
   "cell_type": "markdown",
   "id": "c22b4de5-ea58-4c85-aa80-f1fee1b91d62",
   "metadata": {},
   "source": [
    "QUES - 23 - :A company implemented an employee training program to improve job performance (Effective, Neutral,\n",
    "Ineffective). After the training, they collected data from a sample of employees and classified them based\n",
    "on their job performance before and after the training. Perform a Chi-Square test to determine if there is a\n",
    "significant difference between job performance levels before and after the training.\n",
    "\n",
    "\n",
    "Sample data:\n",
    "\n",
    "```python\n",
    "\n",
    "# Sample data: Job performance levels before (rows) and after (columns) training\n",
    "\n",
    "data = np.array([[50, 30, 20], [30, 40, 30], [20, 30, 40]])"
   ]
  },
  {
   "cell_type": "markdown",
   "id": "9bec0cd6-cc9b-4be1-be37-60903591696c",
   "metadata": {},
   "source": [
    "ANS - 23 -: \n",
    "\n",
    "In this scenario, we are conducting a **Chi-Square test of independence** to determine whether there is a significant difference between job performance levels before and after the training. The data you provided shows the classification of employees into three job performance levels: **Effective**, **Neutral**, and **Ineffective** before and after the training.\n",
    "\n",
    "### Steps for Chi-Square Test:\n",
    "\n",
    "1. **Construct the Contingency Table:**\n",
    "   - The data is already in the form of a contingency table where each row represents job performance before training (Effective, Neutral, Ineffective), and each column represents job performance after training (Effective, Neutral, Ineffective).\n",
    "\n",
    "2. **Perform the Chi-Square Test:**\n",
    "   - We will use `scipy.stats.chi2_contingency()` to perform the test. This will give us the Chi-Square statistic, p-value, degrees of freedom, and the expected frequency table.\n",
    "\n",
    "3. **Interpret the Results:**\n",
    "   - If the **p-value** is less than 0.05, we reject the null hypothesis, indicating that there is a significant difference between job performance levels before and after the training.\n",
    "   - If the p-value is greater than 0.05, we fail to reject the null hypothesis, suggesting that there is no significant difference.\n",
    "\n",
    "### Python Code Implementation:\n"
   ]
  },
  {
   "cell_type": "code",
   "execution_count": 32,
   "id": "3ee5ddd9-94fe-4171-9bcf-848a38cd3c35",
   "metadata": {},
   "outputs": [
    {
     "name": "stdout",
     "output_type": "stream",
     "text": [
      "Contingency Table:\n",
      "[[50 30 20]\n",
      " [30 40 30]\n",
      " [20 30 40]]\n",
      "\n",
      "Chi-Square Statistic: 22.161728395061726\n",
      "P-value: 0.00018609719479882557\n",
      "Degrees of Freedom: 4\n",
      "Expected Frequencies Table:\n",
      "[[34.48275862 34.48275862 31.03448276]\n",
      " [34.48275862 34.48275862 31.03448276]\n",
      " [31.03448276 31.03448276 27.93103448]]\n",
      "\n",
      "Reject the null hypothesis: There is a significant difference in job performance levels before and after the training.\n"
     ]
    }
   ],
   "source": [
    "\n",
    "import numpy as np\n",
    "from scipy.stats import chi2_contingency\n",
    "\n",
    "# Sample data: Job performance levels before (rows) and after (columns) training\n",
    "data = np.array([[50, 30, 20],  # Effective, Neutral, Ineffective (before)\n",
    "                 [30, 40, 30],  # Effective, Neutral, Ineffective (after)\n",
    "                 [20, 30, 40]])  # Effective, Neutral, Ineffective (after)\n",
    "\n",
    "# Perform the Chi-Square test\n",
    "chi2_stat, p_value, dof, expected = chi2_contingency(data)\n",
    "\n",
    "# Output the results\n",
    "print(\"Contingency Table:\")\n",
    "print(data)\n",
    "print(\"\\nChi-Square Statistic:\", chi2_stat)\n",
    "print(\"P-value:\", p_value)\n",
    "print(\"Degrees of Freedom:\", dof)\n",
    "print(\"Expected Frequencies Table:\")\n",
    "print(expected)\n",
    "\n",
    "# Interpretation\n",
    "if p_value < 0.05:\n",
    "    print(\"\\nReject the null hypothesis: There is a significant difference in job performance levels before and after the training.\")\n",
    "else:\n",
    "    print(\"\\nFail to reject the null hypothesis: There is no significant difference in job performance levels before and after the training.\")"
   ]
  },
  {
   "cell_type": "markdown",
   "id": "de99260c-91ae-4eb5-8678-b850530252a0",
   "metadata": {},
   "source": [
    "QUES - 24 - : A company produces three different versions of a product: Standard, Premium, and Deluxe. The\n",
    "company wants to determine if there is a significant difference in customer satisfaction scores among the\n",
    "three product versions. They conducted a survey and collected customer satisfaction scores for each\n",
    "version from a random sample of customers. Perform an ANOVA test to determine if there is a significant\n",
    "difference in customer satisfaction scores.\n",
    "\n",
    "\n",
    "  Use the following data:\n",
    "\n",
    "  ```python\n",
    "\n",
    "  # Sample data: Customer satisfaction scores for each product version\n",
    "\n",
    "  standard_scores = [80, 85, 90, 78, 88, 82, 92, 78, 85, 87]\n",
    "\n",
    "  premium_scores = [90, 92, 88, 92, 95, 91, 96, 93, 89, 93]\n",
    "\n",
    "  deluxe_scores = [95, 98, 92, 97, 96, 94, 98, 97, 92, 99]"
   ]
  },
  {
   "cell_type": "markdown",
   "id": "31c3bcca-7c83-44e5-96d8-303634590012",
   "metadata": {},
   "source": [
    "ANS - 24 -:\n",
    "\n",
    "\n",
    "To determine if there is a significant difference in customer satisfaction scores among the three product versions (Standard, Premium, and Deluxe), we can use **ANOVA (Analysis of Variance)**. ANOVA is a statistical test that compares the means of multiple groups to see if they are significantly different from each other.\n",
    "\n",
    "### Steps for ANOVA Test:\n",
    "\n",
    "1. **State the Hypotheses:**\n",
    "   - **Null Hypothesis (H₀):** There is no significant difference in customer satisfaction scores among the three product versions.\n",
    "   - **Alternative Hypothesis (H₁):** There is a significant difference in customer satisfaction scores among the three product versions.\n",
    "\n",
    "2. **Assumptions for ANOVA:**\n",
    "   - The data are normally distributed within each group.\n",
    "   - The variances are equal across groups (homogeneity of variance).\n",
    "   - The samples are independent.\n",
    "\n",
    "3. **Perform the ANOVA Test:**\n",
    "   - We will use `scipy.stats.f_oneway()` to perform a one-way ANOVA test. This function takes the customer satisfaction scores for each product version as input and calculates the **F-statistic** and **p-value**.\n",
    "\n",
    "4. **Interpret the Results:**\n",
    "   - If the **p-value** is less than 0.05, we reject the null hypothesis, indicating that there is a significant difference in customer satisfaction scores among the product versions.\n",
    "   - If the p-value is greater than 0.05, we fail to reject the null hypothesis, suggesting that there is no significant difference in customer satisfaction scores.\n",
    "\n",
    "#### Python Code Implementation:\n"
   ]
  },
  {
   "cell_type": "code",
   "execution_count": 33,
   "id": "42074fdb-7938-4aa5-8dfe-38a0bb2de760",
   "metadata": {},
   "outputs": [
    {
     "name": "stdout",
     "output_type": "stream",
     "text": [
      "F-statistic: 27.03556231003039\n",
      "P-value: 3.5786328857349003e-07\n",
      "\n",
      "Reject the null hypothesis: There is a significant difference in customer satisfaction scores among the three product versions.\n"
     ]
    }
   ],
   "source": [
    "\n",
    "import numpy as np\n",
    "from scipy.stats import f_oneway\n",
    "\n",
    "# Sample data: Customer satisfaction scores for each product version\n",
    "standard_scores = [80, 85, 90, 78, 88, 82, 92, 78, 85, 87]\n",
    "premium_scores = [90, 92, 88, 92, 95, 91, 96, 93, 89, 93]\n",
    "deluxe_scores = [95, 98, 92, 97, 96, 94, 98, 97, 92, 99]\n",
    "\n",
    "# Perform the ANOVA test\n",
    "f_stat, p_value = f_oneway(standard_scores, premium_scores, deluxe_scores)\n",
    "\n",
    "# Output the results\n",
    "print(\"F-statistic:\", f_stat)\n",
    "print(\"P-value:\", p_value)\n",
    "\n",
    "# Interpretation\n",
    "if p_value < 0.05:\n",
    "    print(\"\\nReject the null hypothesis: There is a significant difference in customer satisfaction scores among the three product versions.\")\n",
    "else:\n",
    "    print(\"\\nFail to reject the null hypothesis: There is no significant difference in customer satisfaction scores among the three product versions.\")"
   ]
  },
  {
   "cell_type": "code",
   "execution_count": null,
   "id": "e8b44229-92d4-4ffa-8c99-5661d9797948",
   "metadata": {},
   "outputs": [],
   "source": []
  },
  {
   "cell_type": "code",
   "execution_count": null,
   "id": "187ca4e2-339e-4cad-9559-75fda1628a61",
   "metadata": {},
   "outputs": [],
   "source": []
  }
 ],
 "metadata": {
  "kernelspec": {
   "display_name": "Python 3 (ipykernel)",
   "language": "python",
   "name": "python3"
  },
  "language_info": {
   "codemirror_mode": {
    "name": "ipython",
    "version": 3
   },
   "file_extension": ".py",
   "mimetype": "text/x-python",
   "name": "python",
   "nbconvert_exporter": "python",
   "pygments_lexer": "ipython3",
   "version": "3.12.4"
  }
 },
 "nbformat": 4,
 "nbformat_minor": 5
}
